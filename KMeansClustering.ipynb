{
  "nbformat": 4,
  "nbformat_minor": 0,
  "metadata": {
    "colab": {
      "name": "KMeansClustering.ipynb",
      "provenance": [],
      "collapsed_sections": [
        "LQH8XBm-NOr0",
        "iDkCEMmnX4kv",
        "oyvVDaF8Yoj4",
        "kjuvdjRFa4qN"
      ]
    },
    "kernelspec": {
      "name": "python3",
      "display_name": "Python 3"
    },
    "language_info": {
      "name": "python"
    }
  },
  "cells": [
    {
      "cell_type": "markdown",
      "metadata": {
        "id": "mEXpGGXhK3Rn"
      },
      "source": [
        "# Otniel Abiezer - 1301180469"
      ]
    },
    {
      "cell_type": "markdown",
      "metadata": {
        "id": "X94vqnuyK98r"
      },
      "source": [
        "## Load Data"
      ]
    },
    {
      "cell_type": "markdown",
      "metadata": {
        "id": "LkBFN-tukQj3"
      },
      "source": [
        "Import Library"
      ]
    },
    {
      "cell_type": "code",
      "metadata": {
        "id": "Oj_OwGwzMdog"
      },
      "source": [
        "import pandas as pd\n",
        "import numpy as np\n",
        "\n",
        "import matplotlib as mpl\n",
        "import matplotlib.pyplot as plt\n",
        "%matplotlib inline\n",
        "\n",
        "import seaborn as sns\n",
        "from matplotlib import rcParams\n",
        "import warnings\n"
      ],
      "execution_count": null,
      "outputs": []
    },
    {
      "cell_type": "markdown",
      "metadata": {
        "id": "gce8eQ3CkS4t"
      },
      "source": [
        "Mengatur Style"
      ]
    },
    {
      "cell_type": "code",
      "metadata": {
        "id": "-t74206vj4hm"
      },
      "source": [
        "rcParams['figure.figsize'] = 15, 8\n",
        "mpl.style.use(['ggplot'])\n",
        "warnings.filterwarnings(\"ignore\")"
      ],
      "execution_count": null,
      "outputs": []
    },
    {
      "cell_type": "markdown",
      "metadata": {
        "id": "Oc6cxVaHkVhn"
      },
      "source": [
        "Melakukan import data. Cukup lama karena datanya berat"
      ]
    },
    {
      "cell_type": "code",
      "metadata": {
        "id": "B3HGMr-fKyju"
      },
      "source": [
        "df_kendaraan_train = pd.read_excel('https://drive.google.com/uc?id=1KtKBdDVLG1nh9-i_7_F47Absasy_mJQ2')\n",
        "df_kendaraan_test = pd.read_excel('https://drive.google.com/uc?id=1lanpFn-fkiBMMjX99otmqjswW8Eeagbx')"
      ],
      "execution_count": null,
      "outputs": []
    },
    {
      "cell_type": "markdown",
      "metadata": {
        "id": "Hs6yIyZQkehH"
      },
      "source": [
        "Isi data training"
      ]
    },
    {
      "cell_type": "code",
      "metadata": {
        "colab": {
          "base_uri": "https://localhost:8080/",
          "height": 206
        },
        "id": "0t73LQU0MuPX",
        "outputId": "676a8d00-55c0-4cc0-c81f-2f287da6d502"
      },
      "source": [
        "df_kendaraan_train.head()"
      ],
      "execution_count": null,
      "outputs": [
        {
          "output_type": "execute_result",
          "data": {
            "text/html": [
              "<div>\n",
              "<style scoped>\n",
              "    .dataframe tbody tr th:only-of-type {\n",
              "        vertical-align: middle;\n",
              "    }\n",
              "\n",
              "    .dataframe tbody tr th {\n",
              "        vertical-align: top;\n",
              "    }\n",
              "\n",
              "    .dataframe thead th {\n",
              "        text-align: right;\n",
              "    }\n",
              "</style>\n",
              "<table border=\"1\" class=\"dataframe\">\n",
              "  <thead>\n",
              "    <tr style=\"text-align: right;\">\n",
              "      <th></th>\n",
              "      <th>id</th>\n",
              "      <th>Jenis_Kelamin</th>\n",
              "      <th>Umur</th>\n",
              "      <th>SIM</th>\n",
              "      <th>Kode_Daerah</th>\n",
              "      <th>Sudah_Asuransi</th>\n",
              "      <th>Umur_Kendaraan</th>\n",
              "      <th>Kendaraan_Rusak</th>\n",
              "      <th>Premi</th>\n",
              "      <th>Kanal_Penjualan</th>\n",
              "      <th>Lama_Berlangganan</th>\n",
              "      <th>Tertarik</th>\n",
              "    </tr>\n",
              "  </thead>\n",
              "  <tbody>\n",
              "    <tr>\n",
              "      <th>0</th>\n",
              "      <td>1</td>\n",
              "      <td>Wanita</td>\n",
              "      <td>30.0</td>\n",
              "      <td>1.0</td>\n",
              "      <td>33.0</td>\n",
              "      <td>1.0</td>\n",
              "      <td>&lt; 1 Tahun</td>\n",
              "      <td>Tidak</td>\n",
              "      <td>28029.0</td>\n",
              "      <td>152.0</td>\n",
              "      <td>97.0</td>\n",
              "      <td>0</td>\n",
              "    </tr>\n",
              "    <tr>\n",
              "      <th>1</th>\n",
              "      <td>2</td>\n",
              "      <td>Pria</td>\n",
              "      <td>48.0</td>\n",
              "      <td>1.0</td>\n",
              "      <td>39.0</td>\n",
              "      <td>0.0</td>\n",
              "      <td>&gt; 2 Tahun</td>\n",
              "      <td>Pernah</td>\n",
              "      <td>25800.0</td>\n",
              "      <td>29.0</td>\n",
              "      <td>158.0</td>\n",
              "      <td>0</td>\n",
              "    </tr>\n",
              "    <tr>\n",
              "      <th>2</th>\n",
              "      <td>3</td>\n",
              "      <td>NaN</td>\n",
              "      <td>21.0</td>\n",
              "      <td>1.0</td>\n",
              "      <td>46.0</td>\n",
              "      <td>1.0</td>\n",
              "      <td>&lt; 1 Tahun</td>\n",
              "      <td>Tidak</td>\n",
              "      <td>32733.0</td>\n",
              "      <td>160.0</td>\n",
              "      <td>119.0</td>\n",
              "      <td>0</td>\n",
              "    </tr>\n",
              "    <tr>\n",
              "      <th>3</th>\n",
              "      <td>4</td>\n",
              "      <td>Wanita</td>\n",
              "      <td>58.0</td>\n",
              "      <td>1.0</td>\n",
              "      <td>48.0</td>\n",
              "      <td>0.0</td>\n",
              "      <td>1-2 Tahun</td>\n",
              "      <td>Tidak</td>\n",
              "      <td>2630.0</td>\n",
              "      <td>124.0</td>\n",
              "      <td>63.0</td>\n",
              "      <td>0</td>\n",
              "    </tr>\n",
              "    <tr>\n",
              "      <th>4</th>\n",
              "      <td>5</td>\n",
              "      <td>Pria</td>\n",
              "      <td>50.0</td>\n",
              "      <td>1.0</td>\n",
              "      <td>35.0</td>\n",
              "      <td>0.0</td>\n",
              "      <td>&gt; 2 Tahun</td>\n",
              "      <td>NaN</td>\n",
              "      <td>34857.0</td>\n",
              "      <td>88.0</td>\n",
              "      <td>194.0</td>\n",
              "      <td>0</td>\n",
              "    </tr>\n",
              "  </tbody>\n",
              "</table>\n",
              "</div>"
            ],
            "text/plain": [
              "   id Jenis_Kelamin  Umur  ...  Kanal_Penjualan  Lama_Berlangganan  Tertarik\n",
              "0   1        Wanita  30.0  ...            152.0               97.0         0\n",
              "1   2          Pria  48.0  ...             29.0              158.0         0\n",
              "2   3           NaN  21.0  ...            160.0              119.0         0\n",
              "3   4        Wanita  58.0  ...            124.0               63.0         0\n",
              "4   5          Pria  50.0  ...             88.0              194.0         0\n",
              "\n",
              "[5 rows x 12 columns]"
            ]
          },
          "metadata": {},
          "execution_count": 13
        }
      ]
    },
    {
      "cell_type": "markdown",
      "metadata": {
        "id": "wHiUDV66khgF"
      },
      "source": [
        "Isi data testing"
      ]
    },
    {
      "cell_type": "code",
      "metadata": {
        "colab": {
          "base_uri": "https://localhost:8080/",
          "height": 206
        },
        "id": "GlQkLb6NNAVe",
        "outputId": "6fbf6171-1bb3-4020-860d-91da8b8026e6"
      },
      "source": [
        "df_kendaraan_test.head()"
      ],
      "execution_count": null,
      "outputs": [
        {
          "output_type": "execute_result",
          "data": {
            "text/html": [
              "<div>\n",
              "<style scoped>\n",
              "    .dataframe tbody tr th:only-of-type {\n",
              "        vertical-align: middle;\n",
              "    }\n",
              "\n",
              "    .dataframe tbody tr th {\n",
              "        vertical-align: top;\n",
              "    }\n",
              "\n",
              "    .dataframe thead th {\n",
              "        text-align: right;\n",
              "    }\n",
              "</style>\n",
              "<table border=\"1\" class=\"dataframe\">\n",
              "  <thead>\n",
              "    <tr style=\"text-align: right;\">\n",
              "      <th></th>\n",
              "      <th>Jenis_Kelamin</th>\n",
              "      <th>Umur</th>\n",
              "      <th>SIM</th>\n",
              "      <th>Kode_Daerah</th>\n",
              "      <th>Sudah_Asuransi</th>\n",
              "      <th>Umur_Kendaraan</th>\n",
              "      <th>Kendaraan_Rusak</th>\n",
              "      <th>Premi</th>\n",
              "      <th>Kanal_Penjualan</th>\n",
              "      <th>Lama_Berlangganan</th>\n",
              "      <th>Tertarik</th>\n",
              "    </tr>\n",
              "  </thead>\n",
              "  <tbody>\n",
              "    <tr>\n",
              "      <th>0</th>\n",
              "      <td>Wanita</td>\n",
              "      <td>49</td>\n",
              "      <td>1</td>\n",
              "      <td>8</td>\n",
              "      <td>0</td>\n",
              "      <td>1-2 Tahun</td>\n",
              "      <td>Pernah</td>\n",
              "      <td>46963</td>\n",
              "      <td>26</td>\n",
              "      <td>145</td>\n",
              "      <td>0</td>\n",
              "    </tr>\n",
              "    <tr>\n",
              "      <th>1</th>\n",
              "      <td>Pria</td>\n",
              "      <td>22</td>\n",
              "      <td>1</td>\n",
              "      <td>47</td>\n",
              "      <td>1</td>\n",
              "      <td>&lt; 1 Tahun</td>\n",
              "      <td>Tidak</td>\n",
              "      <td>39624</td>\n",
              "      <td>152</td>\n",
              "      <td>241</td>\n",
              "      <td>0</td>\n",
              "    </tr>\n",
              "    <tr>\n",
              "      <th>2</th>\n",
              "      <td>Pria</td>\n",
              "      <td>24</td>\n",
              "      <td>1</td>\n",
              "      <td>28</td>\n",
              "      <td>1</td>\n",
              "      <td>&lt; 1 Tahun</td>\n",
              "      <td>Tidak</td>\n",
              "      <td>110479</td>\n",
              "      <td>152</td>\n",
              "      <td>62</td>\n",
              "      <td>0</td>\n",
              "    </tr>\n",
              "    <tr>\n",
              "      <th>3</th>\n",
              "      <td>Pria</td>\n",
              "      <td>46</td>\n",
              "      <td>1</td>\n",
              "      <td>8</td>\n",
              "      <td>1</td>\n",
              "      <td>1-2 Tahun</td>\n",
              "      <td>Tidak</td>\n",
              "      <td>36266</td>\n",
              "      <td>124</td>\n",
              "      <td>34</td>\n",
              "      <td>0</td>\n",
              "    </tr>\n",
              "    <tr>\n",
              "      <th>4</th>\n",
              "      <td>Pria</td>\n",
              "      <td>35</td>\n",
              "      <td>1</td>\n",
              "      <td>23</td>\n",
              "      <td>0</td>\n",
              "      <td>1-2 Tahun</td>\n",
              "      <td>Pernah</td>\n",
              "      <td>26963</td>\n",
              "      <td>152</td>\n",
              "      <td>229</td>\n",
              "      <td>0</td>\n",
              "    </tr>\n",
              "  </tbody>\n",
              "</table>\n",
              "</div>"
            ],
            "text/plain": [
              "  Jenis_Kelamin  Umur  SIM  ...  Kanal_Penjualan  Lama_Berlangganan Tertarik\n",
              "0        Wanita    49    1  ...               26                145        0\n",
              "1          Pria    22    1  ...              152                241        0\n",
              "2          Pria    24    1  ...              152                 62        0\n",
              "3          Pria    46    1  ...              124                 34        0\n",
              "4          Pria    35    1  ...              152                229        0\n",
              "\n",
              "[5 rows x 11 columns]"
            ]
          },
          "metadata": {},
          "execution_count": 14
        }
      ]
    },
    {
      "cell_type": "markdown",
      "metadata": {
        "id": "LQH8XBm-NOr0"
      },
      "source": [
        "## Data Exploration"
      ]
    },
    {
      "cell_type": "markdown",
      "metadata": {
        "id": "HIirGYZWNdYn"
      },
      "source": [
        "### Train"
      ]
    },
    {
      "cell_type": "markdown",
      "metadata": {
        "id": "xxRxR6M-klbx"
      },
      "source": [
        "Untuk menampilkan ukuran dataset"
      ]
    },
    {
      "cell_type": "code",
      "metadata": {
        "colab": {
          "base_uri": "https://localhost:8080/"
        },
        "id": "XEsqWIW4NF5I",
        "outputId": "2c4cdd51-a3ea-4e46-e72c-ad41dee1133c"
      },
      "source": [
        "df_kendaraan_train.shape"
      ],
      "execution_count": null,
      "outputs": [
        {
          "output_type": "execute_result",
          "data": {
            "text/plain": [
              "(285831, 12)"
            ]
          },
          "metadata": {},
          "execution_count": 15
        }
      ]
    },
    {
      "cell_type": "markdown",
      "metadata": {
        "id": "XkDE6RC9kojp"
      },
      "source": [
        "Mengetahui nilai null dan juga tipe data setiap kolom"
      ]
    },
    {
      "cell_type": "code",
      "metadata": {
        "colab": {
          "base_uri": "https://localhost:8080/"
        },
        "id": "W6NG_94mNYjq",
        "outputId": "4a4ad4ed-edfb-4cd1-bc18-efb386240003"
      },
      "source": [
        "df_kendaraan_train.info()"
      ],
      "execution_count": null,
      "outputs": [
        {
          "output_type": "stream",
          "name": "stdout",
          "text": [
            "<class 'pandas.core.frame.DataFrame'>\n",
            "RangeIndex: 285831 entries, 0 to 285830\n",
            "Data columns (total 12 columns):\n",
            " #   Column             Non-Null Count   Dtype  \n",
            "---  ------             --------------   -----  \n",
            " 0   id                 285831 non-null  int64  \n",
            " 1   Jenis_Kelamin      271391 non-null  object \n",
            " 2   Umur               271617 non-null  float64\n",
            " 3   SIM                271427 non-null  float64\n",
            " 4   Kode_Daerah        271525 non-null  float64\n",
            " 5   Sudah_Asuransi     271602 non-null  float64\n",
            " 6   Umur_Kendaraan     271556 non-null  object \n",
            " 7   Kendaraan_Rusak    271643 non-null  object \n",
            " 8   Premi              271262 non-null  float64\n",
            " 9   Kanal_Penjualan    271532 non-null  float64\n",
            " 10  Lama_Berlangganan  271839 non-null  float64\n",
            " 11  Tertarik           285831 non-null  int64  \n",
            "dtypes: float64(7), int64(2), object(3)\n",
            "memory usage: 26.2+ MB\n"
          ]
        }
      ]
    },
    {
      "cell_type": "markdown",
      "metadata": {
        "id": "yXCe39vUkscO"
      },
      "source": [
        "Mengetahui statistik setiap kolom"
      ]
    },
    {
      "cell_type": "code",
      "metadata": {
        "colab": {
          "base_uri": "https://localhost:8080/",
          "height": 414
        },
        "id": "L-RPDwC6NxI-",
        "outputId": "afe8d633-0fb3-4447-f2e4-42ac4a227773"
      },
      "source": [
        "df_kendaraan_train.describe(include='all')"
      ],
      "execution_count": null,
      "outputs": [
        {
          "output_type": "execute_result",
          "data": {
            "text/html": [
              "<div>\n",
              "<style scoped>\n",
              "    .dataframe tbody tr th:only-of-type {\n",
              "        vertical-align: middle;\n",
              "    }\n",
              "\n",
              "    .dataframe tbody tr th {\n",
              "        vertical-align: top;\n",
              "    }\n",
              "\n",
              "    .dataframe thead th {\n",
              "        text-align: right;\n",
              "    }\n",
              "</style>\n",
              "<table border=\"1\" class=\"dataframe\">\n",
              "  <thead>\n",
              "    <tr style=\"text-align: right;\">\n",
              "      <th></th>\n",
              "      <th>id</th>\n",
              "      <th>Jenis_Kelamin</th>\n",
              "      <th>Umur</th>\n",
              "      <th>SIM</th>\n",
              "      <th>Kode_Daerah</th>\n",
              "      <th>Sudah_Asuransi</th>\n",
              "      <th>Umur_Kendaraan</th>\n",
              "      <th>Kendaraan_Rusak</th>\n",
              "      <th>Premi</th>\n",
              "      <th>Kanal_Penjualan</th>\n",
              "      <th>Lama_Berlangganan</th>\n",
              "      <th>Tertarik</th>\n",
              "    </tr>\n",
              "  </thead>\n",
              "  <tbody>\n",
              "    <tr>\n",
              "      <th>count</th>\n",
              "      <td>285831.000000</td>\n",
              "      <td>271391</td>\n",
              "      <td>271617.000000</td>\n",
              "      <td>271427.000000</td>\n",
              "      <td>271525.000000</td>\n",
              "      <td>271602.000000</td>\n",
              "      <td>271556</td>\n",
              "      <td>271643</td>\n",
              "      <td>271262.000000</td>\n",
              "      <td>271532.000000</td>\n",
              "      <td>271839.000000</td>\n",
              "      <td>285831.000000</td>\n",
              "    </tr>\n",
              "    <tr>\n",
              "      <th>unique</th>\n",
              "      <td>NaN</td>\n",
              "      <td>2</td>\n",
              "      <td>NaN</td>\n",
              "      <td>NaN</td>\n",
              "      <td>NaN</td>\n",
              "      <td>NaN</td>\n",
              "      <td>3</td>\n",
              "      <td>2</td>\n",
              "      <td>NaN</td>\n",
              "      <td>NaN</td>\n",
              "      <td>NaN</td>\n",
              "      <td>NaN</td>\n",
              "    </tr>\n",
              "    <tr>\n",
              "      <th>top</th>\n",
              "      <td>NaN</td>\n",
              "      <td>Pria</td>\n",
              "      <td>NaN</td>\n",
              "      <td>NaN</td>\n",
              "      <td>NaN</td>\n",
              "      <td>NaN</td>\n",
              "      <td>1-2 Tahun</td>\n",
              "      <td>Pernah</td>\n",
              "      <td>NaN</td>\n",
              "      <td>NaN</td>\n",
              "      <td>NaN</td>\n",
              "      <td>NaN</td>\n",
              "    </tr>\n",
              "    <tr>\n",
              "      <th>freq</th>\n",
              "      <td>NaN</td>\n",
              "      <td>146678</td>\n",
              "      <td>NaN</td>\n",
              "      <td>NaN</td>\n",
              "      <td>NaN</td>\n",
              "      <td>NaN</td>\n",
              "      <td>142761</td>\n",
              "      <td>137123</td>\n",
              "      <td>NaN</td>\n",
              "      <td>NaN</td>\n",
              "      <td>NaN</td>\n",
              "      <td>NaN</td>\n",
              "    </tr>\n",
              "    <tr>\n",
              "      <th>mean</th>\n",
              "      <td>142916.000000</td>\n",
              "      <td>NaN</td>\n",
              "      <td>38.844336</td>\n",
              "      <td>0.997848</td>\n",
              "      <td>26.405410</td>\n",
              "      <td>0.458778</td>\n",
              "      <td>NaN</td>\n",
              "      <td>NaN</td>\n",
              "      <td>30536.683472</td>\n",
              "      <td>112.021567</td>\n",
              "      <td>154.286302</td>\n",
              "      <td>0.122471</td>\n",
              "    </tr>\n",
              "    <tr>\n",
              "      <th>std</th>\n",
              "      <td>82512.446734</td>\n",
              "      <td>NaN</td>\n",
              "      <td>15.522487</td>\n",
              "      <td>0.046335</td>\n",
              "      <td>13.252714</td>\n",
              "      <td>0.498299</td>\n",
              "      <td>NaN</td>\n",
              "      <td>NaN</td>\n",
              "      <td>17155.000770</td>\n",
              "      <td>54.202457</td>\n",
              "      <td>83.694910</td>\n",
              "      <td>0.327830</td>\n",
              "    </tr>\n",
              "    <tr>\n",
              "      <th>min</th>\n",
              "      <td>1.000000</td>\n",
              "      <td>NaN</td>\n",
              "      <td>20.000000</td>\n",
              "      <td>0.000000</td>\n",
              "      <td>0.000000</td>\n",
              "      <td>0.000000</td>\n",
              "      <td>NaN</td>\n",
              "      <td>NaN</td>\n",
              "      <td>2630.000000</td>\n",
              "      <td>1.000000</td>\n",
              "      <td>10.000000</td>\n",
              "      <td>0.000000</td>\n",
              "    </tr>\n",
              "    <tr>\n",
              "      <th>25%</th>\n",
              "      <td>71458.500000</td>\n",
              "      <td>NaN</td>\n",
              "      <td>25.000000</td>\n",
              "      <td>1.000000</td>\n",
              "      <td>15.000000</td>\n",
              "      <td>0.000000</td>\n",
              "      <td>NaN</td>\n",
              "      <td>NaN</td>\n",
              "      <td>24398.000000</td>\n",
              "      <td>29.000000</td>\n",
              "      <td>82.000000</td>\n",
              "      <td>0.000000</td>\n",
              "    </tr>\n",
              "    <tr>\n",
              "      <th>50%</th>\n",
              "      <td>142916.000000</td>\n",
              "      <td>NaN</td>\n",
              "      <td>36.000000</td>\n",
              "      <td>1.000000</td>\n",
              "      <td>28.000000</td>\n",
              "      <td>0.000000</td>\n",
              "      <td>NaN</td>\n",
              "      <td>NaN</td>\n",
              "      <td>31646.000000</td>\n",
              "      <td>132.000000</td>\n",
              "      <td>154.000000</td>\n",
              "      <td>0.000000</td>\n",
              "    </tr>\n",
              "    <tr>\n",
              "      <th>75%</th>\n",
              "      <td>214373.500000</td>\n",
              "      <td>NaN</td>\n",
              "      <td>49.000000</td>\n",
              "      <td>1.000000</td>\n",
              "      <td>35.000000</td>\n",
              "      <td>1.000000</td>\n",
              "      <td>NaN</td>\n",
              "      <td>NaN</td>\n",
              "      <td>39377.750000</td>\n",
              "      <td>152.000000</td>\n",
              "      <td>227.000000</td>\n",
              "      <td>0.000000</td>\n",
              "    </tr>\n",
              "    <tr>\n",
              "      <th>max</th>\n",
              "      <td>285831.000000</td>\n",
              "      <td>NaN</td>\n",
              "      <td>85.000000</td>\n",
              "      <td>1.000000</td>\n",
              "      <td>52.000000</td>\n",
              "      <td>1.000000</td>\n",
              "      <td>NaN</td>\n",
              "      <td>NaN</td>\n",
              "      <td>540165.000000</td>\n",
              "      <td>163.000000</td>\n",
              "      <td>299.000000</td>\n",
              "      <td>1.000000</td>\n",
              "    </tr>\n",
              "  </tbody>\n",
              "</table>\n",
              "</div>"
            ],
            "text/plain": [
              "                   id Jenis_Kelamin  ...  Lama_Berlangganan       Tertarik\n",
              "count   285831.000000        271391  ...      271839.000000  285831.000000\n",
              "unique            NaN             2  ...                NaN            NaN\n",
              "top               NaN          Pria  ...                NaN            NaN\n",
              "freq              NaN        146678  ...                NaN            NaN\n",
              "mean    142916.000000           NaN  ...         154.286302       0.122471\n",
              "std      82512.446734           NaN  ...          83.694910       0.327830\n",
              "min          1.000000           NaN  ...          10.000000       0.000000\n",
              "25%      71458.500000           NaN  ...          82.000000       0.000000\n",
              "50%     142916.000000           NaN  ...         154.000000       0.000000\n",
              "75%     214373.500000           NaN  ...         227.000000       0.000000\n",
              "max     285831.000000           NaN  ...         299.000000       1.000000\n",
              "\n",
              "[11 rows x 12 columns]"
            ]
          },
          "metadata": {},
          "execution_count": 17
        }
      ]
    },
    {
      "cell_type": "markdown",
      "metadata": {
        "id": "4t8fHxXjkvr3"
      },
      "source": [
        "Membagi kolom ke dalam 2 kategori berdasarkan tipe datanya"
      ]
    },
    {
      "cell_type": "code",
      "metadata": {
        "id": "UeKy-3oiRVPi"
      },
      "source": [
        "kategorikal = ['Jenis_Kelamin', 'Umur_Kendaraan', 'Kendaraan_Rusak']\n",
        "numerikal = ['id', 'Umur', 'SIM', 'Kode_Daerah', 'Sudah_Asuransi', 'Premi', 'Kanal_Penjualan', 'Lama_Berlangganan', 'Tertarik']"
      ],
      "execution_count": null,
      "outputs": []
    },
    {
      "cell_type": "markdown",
      "metadata": {
        "id": "NV5tWuOoQ65p"
      },
      "source": [
        "#### Univariate Analysis"
      ]
    },
    {
      "cell_type": "markdown",
      "metadata": {
        "id": "v9ZxQi_qkzdw"
      },
      "source": [
        "Menampilkan Box Plot agar mengetahui outlier"
      ]
    },
    {
      "cell_type": "code",
      "metadata": {
        "colab": {
          "base_uri": "https://localhost:8080/",
          "height": 585
        },
        "id": "xBYVnIPaQ-i1",
        "outputId": "96e6e1b3-a5b7-49d0-c81e-74e75818d2c4"
      },
      "source": [
        "for i in range(0, len(numerikal)):\n",
        "    plt.subplot(1, len(numerikal), i+1)\n",
        "    sns.boxplot(y=df_kendaraan_train[numerikal[i]], color='gray', orient='v')\n",
        "    plt.tight_layout()"
      ],
      "execution_count": null,
      "outputs": [
        {
          "output_type": "display_data",
          "data": {
            "image/png": "[encoded data removed]",
            "text/plain": [
              "<Figure size 1080x576 with 9 Axes>"
            ]
          },
          "metadata": {}
        }
      ]
    },
    {
      "cell_type": "markdown",
      "metadata": {
        "id": "Vi6YbL1rk2xJ"
      },
      "source": [
        "Menampilkan persebaran data"
      ]
    },
    {
      "cell_type": "code",
      "metadata": {
        "colab": {
          "base_uri": "https://localhost:8080/",
          "height": 585
        },
        "id": "O3k68R47T5WF",
        "outputId": "b649bc60-00f1-414f-9369-de3da98af340"
      },
      "source": [
        "for i in range(0, len(numerikal)):\n",
        "    plt.subplot(2, 5, i+1)\n",
        "    sns.distplot(df_kendaraan_train[numerikal[i]], color='gray')\n",
        "    plt.tight_layout()"
      ],
      "execution_count": null,
      "outputs": [
        {
          "output_type": "display_data",
          "data": {
            "image/png": "[encoded data removed]",
            "text/plain": [
              "<Figure size 1080x576 with 9 Axes>"
            ]
          },
          "metadata": {}
        }
      ]
    },
    {
      "cell_type": "markdown",
      "metadata": {
        "id": "IZQlqISpk7mR"
      },
      "source": [
        "Untuk data kategorikal, menampilkan frekuensi"
      ]
    },
    {
      "cell_type": "code",
      "metadata": {
        "colab": {
          "base_uri": "https://localhost:8080/",
          "height": 585
        },
        "id": "JeVrxH_JVXSb",
        "outputId": "4f2aea80-7c21-4db5-a5c6-a4fa7435ee04"
      },
      "source": [
        "for i in range(0, len(kategorikal)):\n",
        "    plt.subplot(1, 3, i+1)\n",
        "    sns.countplot(df_kendaraan_train[kategorikal[i]], color='gray', orient='v')\n",
        "    plt.tight_layout()"
      ],
      "execution_count": null,
      "outputs": [
        {
          "output_type": "display_data",
          "data": {
            "image/png": "[encoded data removed]",
            "text/plain": [
              "<Figure size 1080x576 with 3 Axes>"
            ]
          },
          "metadata": {}
        }
      ]
    },
    {
      "cell_type": "markdown",
      "metadata": {
        "id": "NHcI-EBlVpuh"
      },
      "source": [
        "#### Bivariate Analysis"
      ]
    },
    {
      "cell_type": "markdown",
      "metadata": {
        "id": "BrgJ6YxklDPS"
      },
      "source": [
        "Korelasi"
      ]
    },
    {
      "cell_type": "code",
      "metadata": {
        "colab": {
          "base_uri": "https://localhost:8080/",
          "height": 332
        },
        "id": "UfDU3PrMVuRs",
        "outputId": "18657369-6a9b-4a3e-ed7f-79aa6f8530ba"
      },
      "source": [
        "df_kendaraan_train.corr()"
      ],
      "execution_count": null,
      "outputs": [
        {
          "output_type": "execute_result",
          "data": {
            "text/html": [
              "<div>\n",
              "<style scoped>\n",
              "    .dataframe tbody tr th:only-of-type {\n",
              "        vertical-align: middle;\n",
              "    }\n",
              "\n",
              "    .dataframe tbody tr th {\n",
              "        vertical-align: top;\n",
              "    }\n",
              "\n",
              "    .dataframe thead th {\n",
              "        text-align: right;\n",
              "    }\n",
              "</style>\n",
              "<table border=\"1\" class=\"dataframe\">\n",
              "  <thead>\n",
              "    <tr style=\"text-align: right;\">\n",
              "      <th></th>\n",
              "      <th>id</th>\n",
              "      <th>Umur</th>\n",
              "      <th>SIM</th>\n",
              "      <th>Kode_Daerah</th>\n",
              "      <th>Sudah_Asuransi</th>\n",
              "      <th>Premi</th>\n",
              "      <th>Kanal_Penjualan</th>\n",
              "      <th>Lama_Berlangganan</th>\n",
              "      <th>Tertarik</th>\n",
              "    </tr>\n",
              "  </thead>\n",
              "  <tbody>\n",
              "    <tr>\n",
              "      <th>id</th>\n",
              "      <td>1.000000</td>\n",
              "      <td>0.001729</td>\n",
              "      <td>-0.002658</td>\n",
              "      <td>0.002114</td>\n",
              "      <td>-0.003043</td>\n",
              "      <td>0.002292</td>\n",
              "      <td>-0.001500</td>\n",
              "      <td>0.000913</td>\n",
              "      <td>0.000972</td>\n",
              "    </tr>\n",
              "    <tr>\n",
              "      <th>Umur</th>\n",
              "      <td>0.001729</td>\n",
              "      <td>1.000000</td>\n",
              "      <td>-0.079467</td>\n",
              "      <td>0.043603</td>\n",
              "      <td>-0.255006</td>\n",
              "      <td>0.064634</td>\n",
              "      <td>-0.577722</td>\n",
              "      <td>0.000147</td>\n",
              "      <td>0.109888</td>\n",
              "    </tr>\n",
              "    <tr>\n",
              "      <th>SIM</th>\n",
              "      <td>-0.002658</td>\n",
              "      <td>-0.079467</td>\n",
              "      <td>1.000000</td>\n",
              "      <td>-0.003359</td>\n",
              "      <td>0.016073</td>\n",
              "      <td>-0.011315</td>\n",
              "      <td>0.043426</td>\n",
              "      <td>-0.001266</td>\n",
              "      <td>0.009588</td>\n",
              "    </tr>\n",
              "    <tr>\n",
              "      <th>Kode_Daerah</th>\n",
              "      <td>0.002114</td>\n",
              "      <td>0.043603</td>\n",
              "      <td>-0.003359</td>\n",
              "      <td>1.000000</td>\n",
              "      <td>-0.024533</td>\n",
              "      <td>-0.011887</td>\n",
              "      <td>-0.043216</td>\n",
              "      <td>-0.003639</td>\n",
              "      <td>0.010186</td>\n",
              "    </tr>\n",
              "    <tr>\n",
              "      <th>Sudah_Asuransi</th>\n",
              "      <td>-0.003043</td>\n",
              "      <td>-0.255006</td>\n",
              "      <td>0.016073</td>\n",
              "      <td>-0.024533</td>\n",
              "      <td>1.000000</td>\n",
              "      <td>0.005903</td>\n",
              "      <td>0.221767</td>\n",
              "      <td>0.002757</td>\n",
              "      <td>-0.340917</td>\n",
              "    </tr>\n",
              "    <tr>\n",
              "      <th>Premi</th>\n",
              "      <td>0.002292</td>\n",
              "      <td>0.064634</td>\n",
              "      <td>-0.011315</td>\n",
              "      <td>-0.011887</td>\n",
              "      <td>0.005903</td>\n",
              "      <td>1.000000</td>\n",
              "      <td>-0.112187</td>\n",
              "      <td>-0.000750</td>\n",
              "      <td>0.023770</td>\n",
              "    </tr>\n",
              "    <tr>\n",
              "      <th>Kanal_Penjualan</th>\n",
              "      <td>-0.001500</td>\n",
              "      <td>-0.577722</td>\n",
              "      <td>0.043426</td>\n",
              "      <td>-0.043216</td>\n",
              "      <td>0.221767</td>\n",
              "      <td>-0.112187</td>\n",
              "      <td>1.000000</td>\n",
              "      <td>0.000327</td>\n",
              "      <td>-0.140931</td>\n",
              "    </tr>\n",
              "    <tr>\n",
              "      <th>Lama_Berlangganan</th>\n",
              "      <td>0.000913</td>\n",
              "      <td>0.000147</td>\n",
              "      <td>-0.001266</td>\n",
              "      <td>-0.003639</td>\n",
              "      <td>0.002757</td>\n",
              "      <td>-0.000750</td>\n",
              "      <td>0.000327</td>\n",
              "      <td>1.000000</td>\n",
              "      <td>-0.002225</td>\n",
              "    </tr>\n",
              "    <tr>\n",
              "      <th>Tertarik</th>\n",
              "      <td>0.000972</td>\n",
              "      <td>0.109888</td>\n",
              "      <td>0.009588</td>\n",
              "      <td>0.010186</td>\n",
              "      <td>-0.340917</td>\n",
              "      <td>0.023770</td>\n",
              "      <td>-0.140931</td>\n",
              "      <td>-0.002225</td>\n",
              "      <td>1.000000</td>\n",
              "    </tr>\n",
              "  </tbody>\n",
              "</table>\n",
              "</div>"
            ],
            "text/plain": [
              "                         id      Umur  ...  Lama_Berlangganan  Tertarik\n",
              "id                 1.000000  0.001729  ...           0.000913  0.000972\n",
              "Umur               0.001729  1.000000  ...           0.000147  0.109888\n",
              "SIM               -0.002658 -0.079467  ...          -0.001266  0.009588\n",
              "Kode_Daerah        0.002114  0.043603  ...          -0.003639  0.010186\n",
              "Sudah_Asuransi    -0.003043 -0.255006  ...           0.002757 -0.340917\n",
              "Premi              0.002292  0.064634  ...          -0.000750  0.023770\n",
              "Kanal_Penjualan   -0.001500 -0.577722  ...           0.000327 -0.140931\n",
              "Lama_Berlangganan  0.000913  0.000147  ...           1.000000 -0.002225\n",
              "Tertarik           0.000972  0.109888  ...          -0.002225  1.000000\n",
              "\n",
              "[9 rows x 9 columns]"
            ]
          },
          "metadata": {},
          "execution_count": 24
        }
      ]
    },
    {
      "cell_type": "markdown",
      "metadata": {
        "id": "qXZZk5RClFd9"
      },
      "source": [
        "Visualisasi korelasi dengan heatmap"
      ]
    },
    {
      "cell_type": "code",
      "metadata": {
        "colab": {
          "base_uri": "https://localhost:8080/",
          "height": 596
        },
        "id": "U5wfylP9Vwyu",
        "outputId": "4d2cfcb2-2080-4e11-fa3e-22e4ac4c7427"
      },
      "source": [
        "plt.figure(figsize=(8, 8))\n",
        "sns.heatmap(df_kendaraan_train.corr(), cmap='Blues', annot=True, fmt='.2f')"
      ],
      "execution_count": null,
      "outputs": [
        {
          "output_type": "execute_result",
          "data": {
            "text/plain": [
              "<matplotlib.axes._subplots.AxesSubplot at 0x7faabfaaa4d0>"
            ]
          },
          "metadata": {},
          "execution_count": 25
        },
        {
          "output_type": "display_data",
          "data": {
            "image/png": "[encoded data removed]",
            "text/plain": [
              "<Figure size 576x576 with 2 Axes>"
            ]
          },
          "metadata": {}
        }
      ]
    },
    {
      "cell_type": "markdown",
      "metadata": {
        "id": "iDkCEMmnX4kv"
      },
      "source": [
        "### Test"
      ]
    },
    {
      "cell_type": "code",
      "metadata": {
        "colab": {
          "base_uri": "https://localhost:8080/"
        },
        "id": "FxogbQ4KX_Kc",
        "outputId": "9d7ac42e-c7a7-411e-b9fa-a92df3b414b4"
      },
      "source": [
        "df_kendaraan_test.shape"
      ],
      "execution_count": null,
      "outputs": [
        {
          "output_type": "execute_result",
          "data": {
            "text/plain": [
              "(47639, 11)"
            ]
          },
          "metadata": {},
          "execution_count": 17
        }
      ]
    },
    {
      "cell_type": "code",
      "metadata": {
        "colab": {
          "base_uri": "https://localhost:8080/"
        },
        "id": "Rj3Jo8DfX_Kd",
        "outputId": "6f17b203-a821-4e10-bcc6-862eea6420d8"
      },
      "source": [
        "df_kendaraan_test.info()"
      ],
      "execution_count": null,
      "outputs": [
        {
          "output_type": "stream",
          "name": "stdout",
          "text": [
            "<class 'pandas.core.frame.DataFrame'>\n",
            "RangeIndex: 47639 entries, 0 to 47638\n",
            "Data columns (total 11 columns):\n",
            " #   Column             Non-Null Count  Dtype \n",
            "---  ------             --------------  ----- \n",
            " 0   Jenis_Kelamin      47639 non-null  object\n",
            " 1   Umur               47639 non-null  int64 \n",
            " 2   SIM                47639 non-null  int64 \n",
            " 3   Kode_Daerah        47639 non-null  int64 \n",
            " 4   Sudah_Asuransi     47639 non-null  int64 \n",
            " 5   Umur_Kendaraan     47639 non-null  object\n",
            " 6   Kendaraan_Rusak    47639 non-null  object\n",
            " 7   Premi              47639 non-null  int64 \n",
            " 8   Kanal_Penjualan    47639 non-null  int64 \n",
            " 9   Lama_Berlangganan  47639 non-null  int64 \n",
            " 10  Tertarik           47639 non-null  int64 \n",
            "dtypes: int64(8), object(3)\n",
            "memory usage: 4.0+ MB\n"
          ]
        }
      ]
    },
    {
      "cell_type": "code",
      "metadata": {
        "colab": {
          "base_uri": "https://localhost:8080/"
        },
        "id": "m1Bo4_5tX_Kd",
        "outputId": "03f796b8-a4d4-4d44-9d10-02e3db5beccd"
      },
      "source": [
        "df_kendaraan_test.describe(include='all')"
      ],
      "execution_count": null,
      "outputs": [
        {
          "output_type": "execute_result",
          "data": {
            "text/html": [
              "<div>\n",
              "<style scoped>\n",
              "    .dataframe tbody tr th:only-of-type {\n",
              "        vertical-align: middle;\n",
              "    }\n",
              "\n",
              "    .dataframe tbody tr th {\n",
              "        vertical-align: top;\n",
              "    }\n",
              "\n",
              "    .dataframe thead th {\n",
              "        text-align: right;\n",
              "    }\n",
              "</style>\n",
              "<table border=\"1\" class=\"dataframe\">\n",
              "  <thead>\n",
              "    <tr style=\"text-align: right;\">\n",
              "      <th></th>\n",
              "      <th>Jenis_Kelamin</th>\n",
              "      <th>Umur</th>\n",
              "      <th>SIM</th>\n",
              "      <th>Kode_Daerah</th>\n",
              "      <th>Sudah_Asuransi</th>\n",
              "      <th>Umur_Kendaraan</th>\n",
              "      <th>Kendaraan_Rusak</th>\n",
              "      <th>Premi</th>\n",
              "      <th>Kanal_Penjualan</th>\n",
              "      <th>Lama_Berlangganan</th>\n",
              "      <th>Tertarik</th>\n",
              "    </tr>\n",
              "  </thead>\n",
              "  <tbody>\n",
              "    <tr>\n",
              "      <th>count</th>\n",
              "      <td>47639</td>\n",
              "      <td>47639.000000</td>\n",
              "      <td>47639.000000</td>\n",
              "      <td>47639.000000</td>\n",
              "      <td>47639.000000</td>\n",
              "      <td>47639</td>\n",
              "      <td>47639</td>\n",
              "      <td>47639.000000</td>\n",
              "      <td>47639.000000</td>\n",
              "      <td>47639.000000</td>\n",
              "      <td>47639.000000</td>\n",
              "    </tr>\n",
              "    <tr>\n",
              "      <th>unique</th>\n",
              "      <td>2</td>\n",
              "      <td>NaN</td>\n",
              "      <td>NaN</td>\n",
              "      <td>NaN</td>\n",
              "      <td>NaN</td>\n",
              "      <td>3</td>\n",
              "      <td>2</td>\n",
              "      <td>NaN</td>\n",
              "      <td>NaN</td>\n",
              "      <td>NaN</td>\n",
              "      <td>NaN</td>\n",
              "    </tr>\n",
              "    <tr>\n",
              "      <th>top</th>\n",
              "      <td>Pria</td>\n",
              "      <td>NaN</td>\n",
              "      <td>NaN</td>\n",
              "      <td>NaN</td>\n",
              "      <td>NaN</td>\n",
              "      <td>1-2 Tahun</td>\n",
              "      <td>Pernah</td>\n",
              "      <td>NaN</td>\n",
              "      <td>NaN</td>\n",
              "      <td>NaN</td>\n",
              "      <td>NaN</td>\n",
              "    </tr>\n",
              "    <tr>\n",
              "      <th>freq</th>\n",
              "      <td>25870</td>\n",
              "      <td>NaN</td>\n",
              "      <td>NaN</td>\n",
              "      <td>NaN</td>\n",
              "      <td>NaN</td>\n",
              "      <td>24966</td>\n",
              "      <td>24041</td>\n",
              "      <td>NaN</td>\n",
              "      <td>NaN</td>\n",
              "      <td>NaN</td>\n",
              "      <td>NaN</td>\n",
              "    </tr>\n",
              "    <tr>\n",
              "      <th>mean</th>\n",
              "      <td>NaN</td>\n",
              "      <td>38.815466</td>\n",
              "      <td>0.997922</td>\n",
              "      <td>26.331514</td>\n",
              "      <td>0.457608</td>\n",
              "      <td>NaN</td>\n",
              "      <td>NaN</td>\n",
              "      <td>30626.481202</td>\n",
              "      <td>112.180566</td>\n",
              "      <td>154.447574</td>\n",
              "      <td>0.123029</td>\n",
              "    </tr>\n",
              "    <tr>\n",
              "      <th>std</th>\n",
              "      <td>NaN</td>\n",
              "      <td>15.548817</td>\n",
              "      <td>0.045540</td>\n",
              "      <td>13.213353</td>\n",
              "      <td>0.498205</td>\n",
              "      <td>NaN</td>\n",
              "      <td>NaN</td>\n",
              "      <td>17404.792248</td>\n",
              "      <td>54.162703</td>\n",
              "      <td>83.642137</td>\n",
              "      <td>0.328474</td>\n",
              "    </tr>\n",
              "    <tr>\n",
              "      <th>min</th>\n",
              "      <td>NaN</td>\n",
              "      <td>20.000000</td>\n",
              "      <td>0.000000</td>\n",
              "      <td>0.000000</td>\n",
              "      <td>0.000000</td>\n",
              "      <td>NaN</td>\n",
              "      <td>NaN</td>\n",
              "      <td>2630.000000</td>\n",
              "      <td>1.000000</td>\n",
              "      <td>10.000000</td>\n",
              "      <td>0.000000</td>\n",
              "    </tr>\n",
              "    <tr>\n",
              "      <th>25%</th>\n",
              "      <td>NaN</td>\n",
              "      <td>25.000000</td>\n",
              "      <td>1.000000</td>\n",
              "      <td>15.000000</td>\n",
              "      <td>0.000000</td>\n",
              "      <td>NaN</td>\n",
              "      <td>NaN</td>\n",
              "      <td>24395.500000</td>\n",
              "      <td>29.000000</td>\n",
              "      <td>82.000000</td>\n",
              "      <td>0.000000</td>\n",
              "    </tr>\n",
              "    <tr>\n",
              "      <th>50%</th>\n",
              "      <td>NaN</td>\n",
              "      <td>36.000000</td>\n",
              "      <td>1.000000</td>\n",
              "      <td>28.000000</td>\n",
              "      <td>0.000000</td>\n",
              "      <td>NaN</td>\n",
              "      <td>NaN</td>\n",
              "      <td>31738.000000</td>\n",
              "      <td>135.000000</td>\n",
              "      <td>155.000000</td>\n",
              "      <td>0.000000</td>\n",
              "    </tr>\n",
              "    <tr>\n",
              "      <th>75%</th>\n",
              "      <td>NaN</td>\n",
              "      <td>49.000000</td>\n",
              "      <td>1.000000</td>\n",
              "      <td>35.000000</td>\n",
              "      <td>1.000000</td>\n",
              "      <td>NaN</td>\n",
              "      <td>NaN</td>\n",
              "      <td>39474.500000</td>\n",
              "      <td>152.000000</td>\n",
              "      <td>227.000000</td>\n",
              "      <td>0.000000</td>\n",
              "    </tr>\n",
              "    <tr>\n",
              "      <th>max</th>\n",
              "      <td>NaN</td>\n",
              "      <td>85.000000</td>\n",
              "      <td>1.000000</td>\n",
              "      <td>52.000000</td>\n",
              "      <td>1.000000</td>\n",
              "      <td>NaN</td>\n",
              "      <td>NaN</td>\n",
              "      <td>540165.000000</td>\n",
              "      <td>163.000000</td>\n",
              "      <td>299.000000</td>\n",
              "      <td>1.000000</td>\n",
              "    </tr>\n",
              "  </tbody>\n",
              "</table>\n",
              "</div>"
            ],
            "text/plain": [
              "       Jenis_Kelamin          Umur  ...  Lama_Berlangganan      Tertarik\n",
              "count          47639  47639.000000  ...       47639.000000  47639.000000\n",
              "unique             2           NaN  ...                NaN           NaN\n",
              "top             Pria           NaN  ...                NaN           NaN\n",
              "freq           25870           NaN  ...                NaN           NaN\n",
              "mean             NaN     38.815466  ...         154.447574      0.123029\n",
              "std              NaN     15.548817  ...          83.642137      0.328474\n",
              "min              NaN     20.000000  ...          10.000000      0.000000\n",
              "25%              NaN     25.000000  ...          82.000000      0.000000\n",
              "50%              NaN     36.000000  ...         155.000000      0.000000\n",
              "75%              NaN     49.000000  ...         227.000000      0.000000\n",
              "max              NaN     85.000000  ...         299.000000      1.000000\n",
              "\n",
              "[11 rows x 11 columns]"
            ]
          },
          "metadata": {},
          "execution_count": 19
        }
      ]
    },
    {
      "cell_type": "markdown",
      "metadata": {
        "id": "oyvVDaF8Yoj4"
      },
      "source": [
        "## Data Preprocessing"
      ]
    },
    {
      "cell_type": "markdown",
      "metadata": {
        "id": "kjuvdjRFa4qN"
      },
      "source": [
        "#### Missing Value"
      ]
    },
    {
      "cell_type": "markdown",
      "metadata": {
        "id": "w6Qc9cqflK5f"
      },
      "source": [
        "Mengetahui persen missing value di setiap kolom"
      ]
    },
    {
      "cell_type": "code",
      "metadata": {
        "colab": {
          "base_uri": "https://localhost:8080/"
        },
        "id": "Gp5yJ9rta3f1",
        "outputId": "1ee4a103-4336-4cac-b87c-c31e3a8b44e3"
      },
      "source": [
        "df_kendaraan_train.isnull().sum() / df_kendaraan_train.shape[0] * 100"
      ],
      "execution_count": null,
      "outputs": [
        {
          "output_type": "execute_result",
          "data": {
            "text/plain": [
              "id                   0.000000\n",
              "Jenis_Kelamin        5.051936\n",
              "Umur                 4.972869\n",
              "SIM                  5.039341\n",
              "Kode_Daerah          5.005055\n",
              "Sudah_Asuransi       4.978116\n",
              "Umur_Kendaraan       4.994210\n",
              "Kendaraan_Rusak      4.963772\n",
              "Premi                5.097068\n",
              "Kanal_Penjualan      5.002606\n",
              "Lama_Berlangganan    4.895200\n",
              "Tertarik             0.000000\n",
              "dtype: float64"
            ]
          },
          "metadata": {},
          "execution_count": 26
        }
      ]
    },
    {
      "cell_type": "markdown",
      "metadata": {
        "id": "5AcLX9tllPWS"
      },
      "source": [
        "Persen data yang dipakai setelah menghilangkan missing value"
      ]
    },
    {
      "cell_type": "code",
      "metadata": {
        "colab": {
          "base_uri": "https://localhost:8080/"
        },
        "id": "r8OSszB5eKnH",
        "outputId": "eaf44665-7111-4282-8f6a-5f68cea7a6a0"
      },
      "source": [
        "data_awal = df_kendaraan_train.shape[0]\n",
        "df_kendaraan_train.dropna(inplace=True)\n",
        "df_kendaraan_train.shape[0] / data_awal * 100"
      ],
      "execution_count": null,
      "outputs": [
        {
          "output_type": "execute_result",
          "data": {
            "text/plain": [
              "59.849351539895956"
            ]
          },
          "metadata": {},
          "execution_count": 27
        }
      ]
    },
    {
      "cell_type": "markdown",
      "metadata": {
        "id": "WYOnffGqevm1"
      },
      "source": [
        "### Scaling"
      ]
    },
    {
      "cell_type": "markdown",
      "metadata": {
        "id": "_WidR25plbJ4"
      },
      "source": [
        "Standarisasi kolom Premi karena persebarannya skew"
      ]
    },
    {
      "cell_type": "code",
      "metadata": {
        "colab": {
          "base_uri": "https://localhost:8080/",
          "height": 206
        },
        "id": "RaBdbhTLkTFd",
        "outputId": "85aa09e8-a2f4-4f0b-9a57-bbf390533997"
      },
      "source": [
        "standar_premi = (df_kendaraan_train['Premi'] - df_kendaraan_train['Premi'].mean()) / (df_kendaraan_train['Premi'].std())\n",
        "df_kendaraan_train['Premi'] = standar_premi\n",
        "df_kendaraan_train.head()"
      ],
      "execution_count": null,
      "outputs": [
        {
          "output_type": "execute_result",
          "data": {
            "text/html": [
              "<div>\n",
              "<style scoped>\n",
              "    .dataframe tbody tr th:only-of-type {\n",
              "        vertical-align: middle;\n",
              "    }\n",
              "\n",
              "    .dataframe tbody tr th {\n",
              "        vertical-align: top;\n",
              "    }\n",
              "\n",
              "    .dataframe thead th {\n",
              "        text-align: right;\n",
              "    }\n",
              "</style>\n",
              "<table border=\"1\" class=\"dataframe\">\n",
              "  <thead>\n",
              "    <tr style=\"text-align: right;\">\n",
              "      <th></th>\n",
              "      <th>id</th>\n",
              "      <th>Jenis_Kelamin</th>\n",
              "      <th>Umur</th>\n",
              "      <th>SIM</th>\n",
              "      <th>Kode_Daerah</th>\n",
              "      <th>Sudah_Asuransi</th>\n",
              "      <th>Umur_Kendaraan</th>\n",
              "      <th>Kendaraan_Rusak</th>\n",
              "      <th>Premi</th>\n",
              "      <th>Kanal_Penjualan</th>\n",
              "      <th>Lama_Berlangganan</th>\n",
              "      <th>Tertarik</th>\n",
              "    </tr>\n",
              "  </thead>\n",
              "  <tbody>\n",
              "    <tr>\n",
              "      <th>0</th>\n",
              "      <td>1</td>\n",
              "      <td>Wanita</td>\n",
              "      <td>30.0</td>\n",
              "      <td>1.0</td>\n",
              "      <td>33.0</td>\n",
              "      <td>1.0</td>\n",
              "      <td>&lt; 1 Tahun</td>\n",
              "      <td>Tidak</td>\n",
              "      <td>-0.144979</td>\n",
              "      <td>152.0</td>\n",
              "      <td>97.0</td>\n",
              "      <td>0</td>\n",
              "    </tr>\n",
              "    <tr>\n",
              "      <th>1</th>\n",
              "      <td>2</td>\n",
              "      <td>Pria</td>\n",
              "      <td>48.0</td>\n",
              "      <td>1.0</td>\n",
              "      <td>39.0</td>\n",
              "      <td>0.0</td>\n",
              "      <td>&gt; 2 Tahun</td>\n",
              "      <td>Pernah</td>\n",
              "      <td>-0.275403</td>\n",
              "      <td>29.0</td>\n",
              "      <td>158.0</td>\n",
              "      <td>0</td>\n",
              "    </tr>\n",
              "    <tr>\n",
              "      <th>3</th>\n",
              "      <td>4</td>\n",
              "      <td>Wanita</td>\n",
              "      <td>58.0</td>\n",
              "      <td>1.0</td>\n",
              "      <td>48.0</td>\n",
              "      <td>0.0</td>\n",
              "      <td>1-2 Tahun</td>\n",
              "      <td>Tidak</td>\n",
              "      <td>-1.631134</td>\n",
              "      <td>124.0</td>\n",
              "      <td>63.0</td>\n",
              "      <td>0</td>\n",
              "    </tr>\n",
              "    <tr>\n",
              "      <th>5</th>\n",
              "      <td>6</td>\n",
              "      <td>Pria</td>\n",
              "      <td>21.0</td>\n",
              "      <td>1.0</td>\n",
              "      <td>35.0</td>\n",
              "      <td>1.0</td>\n",
              "      <td>&lt; 1 Tahun</td>\n",
              "      <td>Tidak</td>\n",
              "      <td>-0.454743</td>\n",
              "      <td>152.0</td>\n",
              "      <td>171.0</td>\n",
              "      <td>0</td>\n",
              "    </tr>\n",
              "    <tr>\n",
              "      <th>8</th>\n",
              "      <td>9</td>\n",
              "      <td>Wanita</td>\n",
              "      <td>20.0</td>\n",
              "      <td>1.0</td>\n",
              "      <td>8.0</td>\n",
              "      <td>1.0</td>\n",
              "      <td>&lt; 1 Tahun</td>\n",
              "      <td>Tidak</td>\n",
              "      <td>0.016340</td>\n",
              "      <td>160.0</td>\n",
              "      <td>31.0</td>\n",
              "      <td>0</td>\n",
              "    </tr>\n",
              "  </tbody>\n",
              "</table>\n",
              "</div>"
            ],
            "text/plain": [
              "   id Jenis_Kelamin  Umur  ...  Kanal_Penjualan  Lama_Berlangganan  Tertarik\n",
              "0   1        Wanita  30.0  ...            152.0               97.0         0\n",
              "1   2          Pria  48.0  ...             29.0              158.0         0\n",
              "3   4        Wanita  58.0  ...            124.0               63.0         0\n",
              "5   6          Pria  21.0  ...            152.0              171.0         0\n",
              "8   9        Wanita  20.0  ...            160.0               31.0         0\n",
              "\n",
              "[5 rows x 12 columns]"
            ]
          },
          "metadata": {},
          "execution_count": 28
        }
      ]
    },
    {
      "cell_type": "code",
      "metadata": {
        "colab": {
          "base_uri": "https://localhost:8080/",
          "height": 517
        },
        "id": "2o5GFmcXmuWV",
        "outputId": "9479d33f-851c-4d77-c1f5-494099c48c61"
      },
      "source": [
        "sns.distplot(df_kendaraan_train['Premi'], color='gray')"
      ],
      "execution_count": null,
      "outputs": [
        {
          "output_type": "execute_result",
          "data": {
            "text/plain": [
              "<matplotlib.axes._subplots.AxesSubplot at 0x7faabea56350>"
            ]
          },
          "metadata": {},
          "execution_count": 29
        },
        {
          "output_type": "display_data",
          "data": {
            "image/png": "[encoded data removed]",
            "text/plain": [
              "<Figure size 1080x576 with 1 Axes>"
            ]
          },
          "metadata": {}
        }
      ]
    },
    {
      "cell_type": "markdown",
      "metadata": {
        "id": "gFxJ9ewPlerw"
      },
      "source": [
        "Normalisasi kolom Umur"
      ]
    },
    {
      "cell_type": "code",
      "metadata": {
        "colab": {
          "base_uri": "https://localhost:8080/",
          "height": 206
        },
        "id": "2AYM8QJDGzEj",
        "outputId": "758170e7-35f2-42c2-ff6a-254806591e3e"
      },
      "source": [
        "norm_umur = (df_kendaraan_train['Umur'] - df_kendaraan_train['Umur'].min()) / (df_kendaraan_train['Umur'].max() - df_kendaraan_train['Umur'].min())\n",
        "df_kendaraan_train['Umur'] = norm_umur\n",
        "df_kendaraan_train.head()"
      ],
      "execution_count": null,
      "outputs": [
        {
          "output_type": "execute_result",
          "data": {
            "text/html": [
              "<div>\n",
              "<style scoped>\n",
              "    .dataframe tbody tr th:only-of-type {\n",
              "        vertical-align: middle;\n",
              "    }\n",
              "\n",
              "    .dataframe tbody tr th {\n",
              "        vertical-align: top;\n",
              "    }\n",
              "\n",
              "    .dataframe thead th {\n",
              "        text-align: right;\n",
              "    }\n",
              "</style>\n",
              "<table border=\"1\" class=\"dataframe\">\n",
              "  <thead>\n",
              "    <tr style=\"text-align: right;\">\n",
              "      <th></th>\n",
              "      <th>id</th>\n",
              "      <th>Jenis_Kelamin</th>\n",
              "      <th>Umur</th>\n",
              "      <th>SIM</th>\n",
              "      <th>Kode_Daerah</th>\n",
              "      <th>Sudah_Asuransi</th>\n",
              "      <th>Umur_Kendaraan</th>\n",
              "      <th>Kendaraan_Rusak</th>\n",
              "      <th>Premi</th>\n",
              "      <th>Kanal_Penjualan</th>\n",
              "      <th>Lama_Berlangganan</th>\n",
              "      <th>Tertarik</th>\n",
              "    </tr>\n",
              "  </thead>\n",
              "  <tbody>\n",
              "    <tr>\n",
              "      <th>0</th>\n",
              "      <td>1</td>\n",
              "      <td>Wanita</td>\n",
              "      <td>0.153846</td>\n",
              "      <td>1.0</td>\n",
              "      <td>33.0</td>\n",
              "      <td>1.0</td>\n",
              "      <td>&lt; 1 Tahun</td>\n",
              "      <td>Tidak</td>\n",
              "      <td>-0.144979</td>\n",
              "      <td>152.0</td>\n",
              "      <td>97.0</td>\n",
              "      <td>0</td>\n",
              "    </tr>\n",
              "    <tr>\n",
              "      <th>1</th>\n",
              "      <td>2</td>\n",
              "      <td>Pria</td>\n",
              "      <td>0.430769</td>\n",
              "      <td>1.0</td>\n",
              "      <td>39.0</td>\n",
              "      <td>0.0</td>\n",
              "      <td>&gt; 2 Tahun</td>\n",
              "      <td>Pernah</td>\n",
              "      <td>-0.275403</td>\n",
              "      <td>29.0</td>\n",
              "      <td>158.0</td>\n",
              "      <td>0</td>\n",
              "    </tr>\n",
              "    <tr>\n",
              "      <th>3</th>\n",
              "      <td>4</td>\n",
              "      <td>Wanita</td>\n",
              "      <td>0.584615</td>\n",
              "      <td>1.0</td>\n",
              "      <td>48.0</td>\n",
              "      <td>0.0</td>\n",
              "      <td>1-2 Tahun</td>\n",
              "      <td>Tidak</td>\n",
              "      <td>-1.631134</td>\n",
              "      <td>124.0</td>\n",
              "      <td>63.0</td>\n",
              "      <td>0</td>\n",
              "    </tr>\n",
              "    <tr>\n",
              "      <th>5</th>\n",
              "      <td>6</td>\n",
              "      <td>Pria</td>\n",
              "      <td>0.015385</td>\n",
              "      <td>1.0</td>\n",
              "      <td>35.0</td>\n",
              "      <td>1.0</td>\n",
              "      <td>&lt; 1 Tahun</td>\n",
              "      <td>Tidak</td>\n",
              "      <td>-0.454743</td>\n",
              "      <td>152.0</td>\n",
              "      <td>171.0</td>\n",
              "      <td>0</td>\n",
              "    </tr>\n",
              "    <tr>\n",
              "      <th>8</th>\n",
              "      <td>9</td>\n",
              "      <td>Wanita</td>\n",
              "      <td>0.000000</td>\n",
              "      <td>1.0</td>\n",
              "      <td>8.0</td>\n",
              "      <td>1.0</td>\n",
              "      <td>&lt; 1 Tahun</td>\n",
              "      <td>Tidak</td>\n",
              "      <td>0.016340</td>\n",
              "      <td>160.0</td>\n",
              "      <td>31.0</td>\n",
              "      <td>0</td>\n",
              "    </tr>\n",
              "  </tbody>\n",
              "</table>\n",
              "</div>"
            ],
            "text/plain": [
              "   id Jenis_Kelamin      Umur  ...  Kanal_Penjualan  Lama_Berlangganan  Tertarik\n",
              "0   1        Wanita  0.153846  ...            152.0               97.0         0\n",
              "1   2          Pria  0.430769  ...             29.0              158.0         0\n",
              "3   4        Wanita  0.584615  ...            124.0               63.0         0\n",
              "5   6          Pria  0.015385  ...            152.0              171.0         0\n",
              "8   9        Wanita  0.000000  ...            160.0               31.0         0\n",
              "\n",
              "[5 rows x 12 columns]"
            ]
          },
          "metadata": {},
          "execution_count": 30
        }
      ]
    },
    {
      "cell_type": "markdown",
      "metadata": {
        "id": "Yp_7wUa4nGzj"
      },
      "source": [
        "### Categorical Encoding"
      ]
    },
    {
      "cell_type": "markdown",
      "metadata": {
        "id": "tA3etM7tlkNW"
      },
      "source": [
        "Mengubah kategori menjadi numerik"
      ]
    },
    {
      "cell_type": "code",
      "metadata": {
        "colab": {
          "base_uri": "https://localhost:8080/"
        },
        "id": "gIlSaVxmnLzA",
        "outputId": "9328390f-d852-419f-e12f-26b361bbd743"
      },
      "source": [
        "cat_to_num = {\"Jenis_Kelamin\":     {\"Wanita\": 1.0, \"Pria\": 0.0},\n",
        "              \"Kendaraan_Rusak\": {\"Tidak\": 0.0, \"Pernah\": 1.0},\n",
        "              \"Umur_Kendaraan\" : {\"< 1 Tahun\": 0.0, \"1-2 Tahun\": 0.5, \"> 2 Tahun\": 1}}\n",
        "\n",
        "df_kendaraan_train = df_kendaraan_train.replace(cat_to_num)\n",
        "df_kendaraan_train.info()"
      ],
      "execution_count": null,
      "outputs": [
        {
          "output_type": "stream",
          "name": "stdout",
          "text": [
            "<class 'pandas.core.frame.DataFrame'>\n",
            "Int64Index: 171068 entries, 0 to 285830\n",
            "Data columns (total 12 columns):\n",
            " #   Column             Non-Null Count   Dtype  \n",
            "---  ------             --------------   -----  \n",
            " 0   id                 171068 non-null  int64  \n",
            " 1   Jenis_Kelamin      171068 non-null  float64\n",
            " 2   Umur               171068 non-null  float64\n",
            " 3   SIM                171068 non-null  float64\n",
            " 4   Kode_Daerah        171068 non-null  float64\n",
            " 5   Sudah_Asuransi     171068 non-null  float64\n",
            " 6   Umur_Kendaraan     171068 non-null  float64\n",
            " 7   Kendaraan_Rusak    171068 non-null  float64\n",
            " 8   Premi              171068 non-null  float64\n",
            " 9   Kanal_Penjualan    171068 non-null  float64\n",
            " 10  Lama_Berlangganan  171068 non-null  float64\n",
            " 11  Tertarik           171068 non-null  int64  \n",
            "dtypes: float64(10), int64(2)\n",
            "memory usage: 17.0 MB\n"
          ]
        }
      ]
    },
    {
      "cell_type": "markdown",
      "metadata": {
        "id": "pPydVj8qohvY"
      },
      "source": [
        "### Feature Selection"
      ]
    },
    {
      "cell_type": "markdown",
      "metadata": {
        "id": "VOXJFqX9mQzp"
      },
      "source": [
        "Menampilkan heatmap korelasi lagi setelah mengubah kategorikal menjadi numerikal untuk melakukan feature selection"
      ]
    },
    {
      "cell_type": "code",
      "metadata": {
        "colab": {
          "base_uri": "https://localhost:8080/",
          "height": 814
        },
        "id": "y9iL4sgPopQ2",
        "outputId": "2e5ac8b1-7f99-4381-8ab2-0c3bc27c8e2b"
      },
      "source": [
        "plt.figure(figsize=(12, 12))\n",
        "sns.heatmap(df_kendaraan_train.corr(), cmap='Blues', annot=True, fmt='.2f')"
      ],
      "execution_count": null,
      "outputs": [
        {
          "output_type": "execute_result",
          "data": {
            "text/plain": [
              "<matplotlib.axes._subplots.AxesSubplot at 0x7faac80c56d0>"
            ]
          },
          "metadata": {},
          "execution_count": 32
        },
        {
          "output_type": "display_data",
          "data": {
            "image/png": "[encoded data removed]",
            "text/plain": [
              "<Figure size 864x864 with 2 Axes>"
            ]
          },
          "metadata": {}
        }
      ]
    },
    {
      "cell_type": "markdown",
      "metadata": {
        "id": "prqnsYnzmX0C"
      },
      "source": [
        "Pemilihan"
      ]
    },
    {
      "cell_type": "code",
      "metadata": {
        "colab": {
          "base_uri": "https://localhost:8080/",
          "height": 206
        },
        "id": "bCYwkdJspSVF",
        "outputId": "377f1f56-9d17-47cd-fccd-326ee54556d4"
      },
      "source": [
        "df_kendaraan_train = df_kendaraan_train[['id', 'Jenis_Kelamin', 'Umur', 'Sudah_Asuransi', 'Umur_Kendaraan', 'Kendaraan_Rusak']]\n",
        "df_kendaraan_train = df_kendaraan_train.reset_index()\n",
        "df_kendaraan_train = df_kendaraan_train.drop(columns=['index'])\n",
        "df_kendaraan_train.head()"
      ],
      "execution_count": null,
      "outputs": [
        {
          "output_type": "execute_result",
          "data": {
            "text/html": [
              "<div>\n",
              "<style scoped>\n",
              "    .dataframe tbody tr th:only-of-type {\n",
              "        vertical-align: middle;\n",
              "    }\n",
              "\n",
              "    .dataframe tbody tr th {\n",
              "        vertical-align: top;\n",
              "    }\n",
              "\n",
              "    .dataframe thead th {\n",
              "        text-align: right;\n",
              "    }\n",
              "</style>\n",
              "<table border=\"1\" class=\"dataframe\">\n",
              "  <thead>\n",
              "    <tr style=\"text-align: right;\">\n",
              "      <th></th>\n",
              "      <th>id</th>\n",
              "      <th>Jenis_Kelamin</th>\n",
              "      <th>Umur</th>\n",
              "      <th>Sudah_Asuransi</th>\n",
              "      <th>Umur_Kendaraan</th>\n",
              "      <th>Kendaraan_Rusak</th>\n",
              "    </tr>\n",
              "  </thead>\n",
              "  <tbody>\n",
              "    <tr>\n",
              "      <th>0</th>\n",
              "      <td>1</td>\n",
              "      <td>1.0</td>\n",
              "      <td>0.153846</td>\n",
              "      <td>1.0</td>\n",
              "      <td>0.0</td>\n",
              "      <td>0.0</td>\n",
              "    </tr>\n",
              "    <tr>\n",
              "      <th>1</th>\n",
              "      <td>2</td>\n",
              "      <td>0.0</td>\n",
              "      <td>0.430769</td>\n",
              "      <td>0.0</td>\n",
              "      <td>1.0</td>\n",
              "      <td>1.0</td>\n",
              "    </tr>\n",
              "    <tr>\n",
              "      <th>2</th>\n",
              "      <td>4</td>\n",
              "      <td>1.0</td>\n",
              "      <td>0.584615</td>\n",
              "      <td>0.0</td>\n",
              "      <td>0.5</td>\n",
              "      <td>0.0</td>\n",
              "    </tr>\n",
              "    <tr>\n",
              "      <th>3</th>\n",
              "      <td>6</td>\n",
              "      <td>0.0</td>\n",
              "      <td>0.015385</td>\n",
              "      <td>1.0</td>\n",
              "      <td>0.0</td>\n",
              "      <td>0.0</td>\n",
              "    </tr>\n",
              "    <tr>\n",
              "      <th>4</th>\n",
              "      <td>9</td>\n",
              "      <td>1.0</td>\n",
              "      <td>0.000000</td>\n",
              "      <td>1.0</td>\n",
              "      <td>0.0</td>\n",
              "      <td>0.0</td>\n",
              "    </tr>\n",
              "  </tbody>\n",
              "</table>\n",
              "</div>"
            ],
            "text/plain": [
              "   id  Jenis_Kelamin      Umur  Sudah_Asuransi  Umur_Kendaraan  Kendaraan_Rusak\n",
              "0   1            1.0  0.153846             1.0             0.0              0.0\n",
              "1   2            0.0  0.430769             0.0             1.0              1.0\n",
              "2   4            1.0  0.584615             0.0             0.5              0.0\n",
              "3   6            0.0  0.015385             1.0             0.0              0.0\n",
              "4   9            1.0  0.000000             1.0             0.0              0.0"
            ]
          },
          "metadata": {},
          "execution_count": 33
        }
      ]
    },
    {
      "cell_type": "code",
      "metadata": {
        "colab": {
          "base_uri": "https://localhost:8080/",
          "height": 300
        },
        "id": "8bChf22mGag0",
        "outputId": "c77631e5-3d17-46f7-808c-7dc0373ebbe6"
      },
      "source": [
        "df_kendaraan_train.describe()"
      ],
      "execution_count": null,
      "outputs": [
        {
          "output_type": "execute_result",
          "data": {
            "text/html": [
              "<div>\n",
              "<style scoped>\n",
              "    .dataframe tbody tr th:only-of-type {\n",
              "        vertical-align: middle;\n",
              "    }\n",
              "\n",
              "    .dataframe tbody tr th {\n",
              "        vertical-align: top;\n",
              "    }\n",
              "\n",
              "    .dataframe thead th {\n",
              "        text-align: right;\n",
              "    }\n",
              "</style>\n",
              "<table border=\"1\" class=\"dataframe\">\n",
              "  <thead>\n",
              "    <tr style=\"text-align: right;\">\n",
              "      <th></th>\n",
              "      <th>id</th>\n",
              "      <th>Jenis_Kelamin</th>\n",
              "      <th>Umur</th>\n",
              "      <th>Sudah_Asuransi</th>\n",
              "      <th>Umur_Kendaraan</th>\n",
              "      <th>Kendaraan_Rusak</th>\n",
              "    </tr>\n",
              "  </thead>\n",
              "  <tbody>\n",
              "    <tr>\n",
              "      <th>count</th>\n",
              "      <td>171068.000000</td>\n",
              "      <td>171068.000000</td>\n",
              "      <td>171068.000000</td>\n",
              "      <td>171068.000000</td>\n",
              "      <td>171068.000000</td>\n",
              "      <td>171068.000000</td>\n",
              "    </tr>\n",
              "    <tr>\n",
              "      <th>mean</th>\n",
              "      <td>142794.020729</td>\n",
              "      <td>0.459338</td>\n",
              "      <td>0.289510</td>\n",
              "      <td>0.459794</td>\n",
              "      <td>0.303999</td>\n",
              "      <td>0.504443</td>\n",
              "    </tr>\n",
              "    <tr>\n",
              "      <th>std</th>\n",
              "      <td>82491.716355</td>\n",
              "      <td>0.498345</td>\n",
              "      <td>0.238949</td>\n",
              "      <td>0.498382</td>\n",
              "      <td>0.283813</td>\n",
              "      <td>0.499982</td>\n",
              "    </tr>\n",
              "    <tr>\n",
              "      <th>min</th>\n",
              "      <td>1.000000</td>\n",
              "      <td>0.000000</td>\n",
              "      <td>0.000000</td>\n",
              "      <td>0.000000</td>\n",
              "      <td>0.000000</td>\n",
              "      <td>0.000000</td>\n",
              "    </tr>\n",
              "    <tr>\n",
              "      <th>25%</th>\n",
              "      <td>71350.750000</td>\n",
              "      <td>0.000000</td>\n",
              "      <td>0.076923</td>\n",
              "      <td>0.000000</td>\n",
              "      <td>0.000000</td>\n",
              "      <td>0.000000</td>\n",
              "    </tr>\n",
              "    <tr>\n",
              "      <th>50%</th>\n",
              "      <td>142768.000000</td>\n",
              "      <td>0.000000</td>\n",
              "      <td>0.246154</td>\n",
              "      <td>0.000000</td>\n",
              "      <td>0.500000</td>\n",
              "      <td>1.000000</td>\n",
              "    </tr>\n",
              "    <tr>\n",
              "      <th>75%</th>\n",
              "      <td>214070.250000</td>\n",
              "      <td>1.000000</td>\n",
              "      <td>0.446154</td>\n",
              "      <td>1.000000</td>\n",
              "      <td>0.500000</td>\n",
              "      <td>1.000000</td>\n",
              "    </tr>\n",
              "    <tr>\n",
              "      <th>max</th>\n",
              "      <td>285831.000000</td>\n",
              "      <td>1.000000</td>\n",
              "      <td>1.000000</td>\n",
              "      <td>1.000000</td>\n",
              "      <td>1.000000</td>\n",
              "      <td>1.000000</td>\n",
              "    </tr>\n",
              "  </tbody>\n",
              "</table>\n",
              "</div>"
            ],
            "text/plain": [
              "                  id  Jenis_Kelamin  ...  Umur_Kendaraan  Kendaraan_Rusak\n",
              "count  171068.000000  171068.000000  ...   171068.000000    171068.000000\n",
              "mean   142794.020729       0.459338  ...        0.303999         0.504443\n",
              "std     82491.716355       0.498345  ...        0.283813         0.499982\n",
              "min         1.000000       0.000000  ...        0.000000         0.000000\n",
              "25%     71350.750000       0.000000  ...        0.000000         0.000000\n",
              "50%    142768.000000       0.000000  ...        0.500000         1.000000\n",
              "75%    214070.250000       1.000000  ...        0.500000         1.000000\n",
              "max    285831.000000       1.000000  ...        1.000000         1.000000\n",
              "\n",
              "[8 rows x 6 columns]"
            ]
          },
          "metadata": {},
          "execution_count": 34
        }
      ]
    },
    {
      "cell_type": "code",
      "metadata": {
        "id": "ul3KeSEBlxNy"
      },
      "source": [
        "df_kendaraan_train.to_excel(r'hasil_preprocessing.xlsx', index=False, header=True)"
      ],
      "execution_count": null,
      "outputs": []
    },
    {
      "cell_type": "markdown",
      "metadata": {
        "id": "MCTx_iixqVti"
      },
      "source": [
        "## Modeling"
      ]
    },
    {
      "cell_type": "code",
      "metadata": {
        "colab": {
          "base_uri": "https://localhost:8080/"
        },
        "id": "EyXHiRCSuQ7j",
        "outputId": "496a6d2e-8a2a-4c85-a316-63a29f54e526"
      },
      "source": [
        "model = df_kendaraan_train.values.tolist()\n",
        "len(model)"
      ],
      "execution_count": null,
      "outputs": [
        {
          "output_type": "execute_result",
          "data": {
            "text/plain": [
              "171068"
            ]
          },
          "metadata": {},
          "execution_count": 288
        }
      ]
    },
    {
      "cell_type": "markdown",
      "metadata": {
        "id": "xq7h8jL-m47y"
      },
      "source": [
        "Mengubah nilai K, bisa diganti sesuai kebutuhan"
      ]
    },
    {
      "cell_type": "code",
      "metadata": {
        "id": "M5jG7R_1Z4Sf"
      },
      "source": [
        "K = 11"
      ],
      "execution_count": null,
      "outputs": []
    },
    {
      "cell_type": "markdown",
      "metadata": {
        "id": "oAyEwEUYoIEI"
      },
      "source": [
        "Definisi Function"
      ]
    },
    {
      "cell_type": "code",
      "metadata": {
        "id": "0klWEUhBvI5Q"
      },
      "source": [
        "#Mencari jarak antar titik menggunakan Euclidean Distance\n",
        "def EuclideanDistance(titik1, titik2):\n",
        "    jumlah = 0\n",
        "    for i in range (0,5):\n",
        "        hasil = (titik1[i+1] - titik2[i+1]) ** 2\n",
        "        jumlah += hasil\n",
        "    return np.sqrt(jumlah)\n",
        "\n",
        "#Melakukan Perubahan Centroid setelah dihitung rata2 semua titik yang masuk cluster tersebut\n",
        "def geserCentroid(cluster):\n",
        "  new_centroid = [0.0]\n",
        "  for i in range(0,5):\n",
        "    jumlah = 0\n",
        "    for j in range(0, len(cluster)-1):\n",
        "      jumlah += cluster[j+1][i+1]\n",
        "    new_titik = jumlah / (len(cluster))\n",
        "    new_centroid.append(new_titik)\n",
        "  return new_centroid\n",
        "\n",
        "#Mencari apakah suatu nilai ada pada suatu array / list\n",
        "def is_found(anggota, arr):\n",
        "  for i in range(0,len(arr)):\n",
        "    if (arr[i] == anggota):\n",
        "      return True\n",
        "  return False"
      ],
      "execution_count": null,
      "outputs": []
    },
    {
      "cell_type": "markdown",
      "metadata": {
        "id": "7zWZazMCoMwc"
      },
      "source": [
        "Random Centroid"
      ]
    },
    {
      "cell_type": "code",
      "metadata": {
        "colab": {
          "base_uri": "https://localhost:8080/"
        },
        "id": "aBJgp4KUzFdz",
        "outputId": "25b96e95-1323-4cbd-8b97-5d45ea6a8b53"
      },
      "source": [
        "#Inisiasi Centroid dengan angka random berdasarkan banyak data\n",
        "calon_sentroid = []    \n",
        "acak = np.random.randint(0,len(model)-1)\n",
        "calon_sentroid.append(acak)\n",
        "\n",
        "#Melakukan inisiasi angka random sebanyak K dan menjamin tidak ada angka yang sama\n",
        "for i in range(0,K-1):\n",
        "  while True:\n",
        "    acak = np.random.randint(0,len(model)-1)\n",
        "    if not is_found(acak, calon_sentroid):\n",
        "      calon_sentroid.append(acak)\n",
        "      break\n",
        "\n",
        "list_centroid = []     #Berisi koordinat centroid-centroid\n",
        "list_cluster = []      #Berisi cluster (sebanyak K) dan menampung titik-titik pada cluster tersebut\n",
        "\n",
        "\n",
        "for i in range(0,3*K):\n",
        "  if (0 <= i <= K-1):\n",
        "    list_centroid.append(model[calon_sentroid[i]])                    #Mengisi titik Centroid berdasarkan angka random (yang menunjukan indeks) di atas\n",
        "  elif (K <= i <= 2*K-1):\n",
        "    list_cluster.append([\"Cluster\" + str(i-K)])                       #Menambahkan nama \"Cluster ke-n\" di awal list_cluster\n",
        "  else:\n",
        "    list_cluster[i-2*K].append(list_centroid[i-2*K])                  #Memasukkan centroid sebagai anggota pertama masing-masing cluster\n",
        "\n",
        "list_cluster"
      ],
      "execution_count": null,
      "outputs": [
        {
          "output_type": "execute_result",
          "data": {
            "text/plain": [
              "[['Cluster0', [140604.0, 1.0, 0.06153846153846154, 1.0, 0.0, 0.0]],\n",
              " ['Cluster1', [32774.0, 0.0, 0.046153846153846156, 1.0, 0.0, 0.0]],\n",
              " ['Cluster2', [87627.0, 0.0, 0.13846153846153847, 0.0, 0.5, 1.0]],\n",
              " ['Cluster3', [62161.0, 0.0, 0.4, 0.0, 0.5, 1.0]],\n",
              " ['Cluster4', [98946.0, 1.0, 0.07692307692307693, 1.0, 0.0, 0.0]],\n",
              " ['Cluster5', [107673.0, 1.0, 0.07692307692307693, 0.0, 0.0, 0.0]],\n",
              " ['Cluster6', [232377.0, 0.0, 0.06153846153846154, 1.0, 0.0, 0.0]],\n",
              " ['Cluster7', [156124.0, 1.0, 0.07692307692307693, 0.0, 0.0, 1.0]],\n",
              " ['Cluster8', [153641.0, 0.0, 0.0, 1.0, 0.0, 0.0]],\n",
              " ['Cluster9', [165730.0, 1.0, 0.1076923076923077, 0.0, 0.0, 1.0]],\n",
              " ['Cluster10', [46789.0, 0.0, 0.46153846153846156, 0.0, 0.5, 1.0]]]"
            ]
          },
          "metadata": {},
          "execution_count": 509
        }
      ]
    },
    {
      "cell_type": "markdown",
      "metadata": {
        "id": "9Hddi3G7oSAi"
      },
      "source": [
        "Melakukan Clustering"
      ]
    },
    {
      "cell_type": "code",
      "metadata": {
        "colab": {
          "base_uri": "https://localhost:8080/"
        },
        "id": "xhqmYI-6xhYQ",
        "outputId": "36b8ca04-445a-4e36-8d02-c7d88064878e"
      },
      "source": [
        "list_jarak = []\n",
        "\n",
        "while True:                              #Melakukan loop sampai semua Centroid tidak bergeser lagi\n",
        "  for i in range(0,len(model)):          #Melakukan loop untuk menghitung titik setiap data                                                         \n",
        "    for j in range(0,K):                 #Melakukan loop untuk menghitung di titik i jarak terhadap centroid yang lain\n",
        "      list_jarak.append(EuclideanDistance(list_centroid[j], model[i]))\n",
        "    #endfor\n",
        "\n",
        "    jarak_terdekat = min(list_jarak)              #Memilih jarak terpendek\n",
        "\n",
        "    for j in range(0,K):                          #Mencari jarak terdekat dari nilai di atas ada pada cluster mana, lalu memasukannya ke dalam list_cluster\n",
        "      if (list_jarak[j] == jarak_terdekat):\n",
        "        list_cluster[j].append(model[i])\n",
        "    #endfor\n",
        "    \n",
        "\n",
        "    list_jarak.clear()                           #Melakukan clear pada list_jarak yang akan dipakai lagi pada loop berikutnya\n",
        "\n",
        "  list_new_centroid = []                         #Tempat calon Centroid baru\n",
        "  for i in range(0,K):\n",
        "    list_new_centroid.append(geserCentroid(list_cluster[i]))    #Melakukan pergeseran Centroid\n",
        "\n",
        "  if (list_new_centroid == list_centroid):                      #Kondisi loop  utama (while True) berhenti kalau tidak ada pergerakan Centroid\n",
        "    break\n",
        "  else:\n",
        "    list_centroid = list_new_centroid                           #Kalau masih berubah, centroid diubah\n",
        "  \n",
        "  for i in range(0,K):                                          #Output agar tahu di setiap perulangan banyak anggota masing-masing cluster\n",
        "    print(\"Cluster\",i, \" sebanyak \", len(list_cluster[i]) - 1)\n",
        "  print()\n",
        "\n",
        "  for i in range(0,K):                                          #Melakukan clear list_cluster kecuali anggota pertama (yang berisi ket. Cluster1, Cluster2, dst)\n",
        "    list_cluster[i] = list_cluster[i][:1]\n",
        "\n",
        "for i in range(0, K):                                           #Output final\n",
        "  print(\"\\nCentroid\",i,\" ada di titik \", list_centroid[i])\n",
        "  print(\"Cluster\",i,\" ada sebanyak \", len(list_cluster[i])-1)\n"
      ],
      "execution_count": null,
      "outputs": [
        {
          "output_type": "stream",
          "name": "stdout",
          "text": [
            "Cluster 0  sebanyak  15009\n",
            "Cluster 1  sebanyak  6207\n",
            "Cluster 2  sebanyak  15595\n",
            "Cluster 3  sebanyak  16841\n",
            "Cluster 4  sebanyak  23748\n",
            "Cluster 5  sebanyak  5979\n",
            "Cluster 6  sebanyak  29568\n",
            "Cluster 7  sebanyak  8633\n",
            "Cluster 8  sebanyak  2560\n",
            "Cluster 9  sebanyak  26161\n",
            "Cluster 10  sebanyak  23094\n",
            "\n",
            "Cluster 0  sebanyak  27925\n",
            "Cluster 1  sebanyak  20587\n",
            "Cluster 2  sebanyak  9930\n",
            "Cluster 3  sebanyak  24506\n",
            "Cluster 4  sebanyak  10897\n",
            "Cluster 5  sebanyak  9104\n",
            "Cluster 6  sebanyak  15744\n",
            "Cluster 7  sebanyak  10406\n",
            "Cluster 8  sebanyak  1124\n",
            "Cluster 9  sebanyak  24350\n",
            "Cluster 10  sebanyak  16495\n",
            "\n",
            "Cluster 0  sebanyak  27934\n",
            "Cluster 1  sebanyak  20603\n",
            "Cluster 2  sebanyak  9453\n",
            "Cluster 3  sebanyak  24538\n",
            "Cluster 4  sebanyak  10888\n",
            "Cluster 5  sebanyak  10579\n",
            "Cluster 6  sebanyak  15728\n",
            "Cluster 7  sebanyak  10414\n",
            "Cluster 8  sebanyak  2434\n",
            "Cluster 9  sebanyak  24342\n",
            "Cluster 10  sebanyak  14155\n",
            "\n",
            "Cluster 0  sebanyak  27933\n",
            "Cluster 1  sebanyak  20603\n",
            "Cluster 2  sebanyak  9453\n",
            "Cluster 3  sebanyak  25135\n",
            "Cluster 4  sebanyak  10888\n",
            "Cluster 5  sebanyak  10579\n",
            "Cluster 6  sebanyak  15728\n",
            "Cluster 7  sebanyak  10414\n",
            "Cluster 8  sebanyak  2695\n",
            "Cluster 9  sebanyak  24325\n",
            "Cluster 10  sebanyak  13315\n",
            "\n",
            "Cluster 0  sebanyak  27933\n",
            "Cluster 1  sebanyak  20603\n",
            "Cluster 2  sebanyak  9453\n",
            "Cluster 3  sebanyak  24956\n",
            "Cluster 4  sebanyak  10888\n",
            "Cluster 5  sebanyak  10579\n",
            "Cluster 6  sebanyak  15728\n",
            "Cluster 7  sebanyak  10414\n",
            "Cluster 8  sebanyak  2681\n",
            "Cluster 9  sebanyak  24339\n",
            "Cluster 10  sebanyak  13494\n",
            "\n",
            "Cluster 0  sebanyak  27933\n",
            "Cluster 1  sebanyak  20603\n",
            "Cluster 2  sebanyak  9453\n",
            "Cluster 3  sebanyak  25666\n",
            "Cluster 4  sebanyak  10888\n",
            "Cluster 5  sebanyak  10579\n",
            "Cluster 6  sebanyak  15728\n",
            "Cluster 7  sebanyak  10414\n",
            "Cluster 8  sebanyak  2678\n",
            "Cluster 9  sebanyak  24342\n",
            "Cluster 10  sebanyak  12784\n",
            "\n",
            "Cluster 0  sebanyak  27933\n",
            "Cluster 1  sebanyak  20603\n",
            "Cluster 2  sebanyak  9452\n",
            "Cluster 3  sebanyak  25639\n",
            "Cluster 4  sebanyak  10888\n",
            "Cluster 5  sebanyak  10579\n",
            "Cluster 6  sebanyak  15728\n",
            "Cluster 7  sebanyak  10414\n",
            "Cluster 8  sebanyak  2678\n",
            "Cluster 9  sebanyak  24342\n",
            "Cluster 10  sebanyak  12812\n",
            "\n",
            "\n",
            "Centroid 0  ada di titik  [0.0, 0.9999642013317105, 0.07323636483801124, 0.9999642013317105, 0.0, 0.03425932555308942]\n",
            "Cluster 0  ada sebanyak  27933\n",
            "\n",
            "Centroid 1  ada di titik  [0.0, 0.0, 0.07566342607112728, 0.9999514657348088, 0.0, 0.0]\n",
            "Cluster 1  ada sebanyak  20603\n",
            "\n",
            "Centroid 2  ada di titik  [0.0, 0.0, 0.07490174059517883, 0.0, 0.0, 0.999894213477203]\n",
            "Cluster 2  ada sebanyak  9452\n",
            "\n",
            "Centroid 3  ada di titik  [0.0, 0.0, 0.35866314652584136, 0.0, 0.5014235569422777, 0.9999609984399376]\n",
            "Cluster 3  ada sebanyak  25639\n",
            "\n",
            "Centroid 4  ada di titik  [0.0, 0.9999081642024061, 0.4663322901728629, 0.9999081642024061, 0.49995408210120307, 0.0]\n",
            "Cluster 4  ada sebanyak  10888\n",
            "\n",
            "Centroid 5  ada di titik  [0.0, 0.4725897920604915, 0.27085356987057757, 0.0, 0.2629962192816635, 0.0]\n",
            "Cluster 5  ada sebanyak  10579\n",
            "\n",
            "Centroid 6  ada di titik  [0.0, 0.0, 0.4786914909745347, 0.9999364231673978, 0.4999682115836989, 0.0]\n",
            "Cluster 6  ada sebanyak  15728\n",
            "\n",
            "Centroid 7  ada di titik  [0.0, 0.999903984637542, 0.06831271464973626, 0.0, 0.0, 0.999903984637542]\n",
            "Cluster 7  ada sebanyak  10414\n",
            "\n",
            "Centroid 8  ada di titik  [0.0, 0.0003732736095558044, 0.35169265225256463, 0.9996267263904441, 0.3516237402015677, 0.9996267263904441]\n",
            "Cluster 8  ada sebanyak  2678\n",
            "\n",
            "Centroid 9  ada di titik  [0.0, 0.9999589204288707, 0.44237578959674795, 0.033931725752783144, 0.5535472209670131, 0.9999589204288707]\n",
            "Cluster 9  ada sebanyak  24342\n",
            "\n",
            "Centroid 10  ada di titik  [0.0, 0.0, 0.6338610425709645, 0.0, 0.674354171544525, 0.9999219542651994]\n",
            "Cluster 10  ada sebanyak  12812\n"
          ]
        }
      ]
    },
    {
      "cell_type": "markdown",
      "metadata": {
        "id": "MIx4IwdEYq_y"
      },
      "source": [
        "## Evaluation"
      ]
    },
    {
      "cell_type": "markdown",
      "metadata": {
        "id": "_rtcYkbapg_8"
      },
      "source": [
        "Menggunakan Silhoutte Coeficient"
      ]
    },
    {
      "cell_type": "code",
      "metadata": {
        "id": "VQrUzzDoZ6LO"
      },
      "source": [
        "def a_i(cluster1, titik_i):\n",
        "  jumlah = 0\n",
        "  for i in range(1,len(cluster1)):\n",
        "    if (titik_i[0] != cluster1[i][0]):\n",
        "      jumlah += EuclideanDistance(cluster1[i], titik_i)\n",
        "  return (jumlah/(len(cluster1)-1))\n",
        "\n",
        "def b_i(cluster_sisa, titik_i):\n",
        "  jarak_antar_cluster = []\n",
        "  for i in range(1,K):\n",
        "    jumlah=0\n",
        "    for j in range(1,len(cluster_sisa[i])-1):\n",
        "      jumlah += EuclideanDistance(cluster_sisa[i][j], titik_i)\n",
        "    jarak_antar_cluster.append(jumlah/len(cluster_sisa[i]))\n",
        "\n",
        "  return min(jarak_antar_cluster)\n",
        "\n",
        "def s_i(list_cluster):\n",
        "  i = np.random.randint(1,len(list_cluster[0])-1)\n",
        "  nilai_b_i = b_i(list_cluster, list_cluster[0][i])\n",
        "  nilai_a_i = a_i(list_cluster[0], list_cluster[0][i])\n",
        "  return (nilai_b_i - nilai_a_i) / (max(nilai_b_i, nilai_a_i))"
      ],
      "execution_count": null,
      "outputs": []
    },
    {
      "cell_type": "markdown",
      "metadata": {
        "id": "62RkSPJgpnS9"
      },
      "source": [
        "Melakukan perhitungan untuk titik pada suatu cluster ke cluster lainnya"
      ]
    },
    {
      "cell_type": "code",
      "metadata": {
        "colab": {
          "base_uri": "https://localhost:8080/"
        },
        "id": "t5tOKHarn_du",
        "outputId": "90e36316-fea0-48b4-e62c-830956e44d72"
      },
      "source": [
        "total = 0\n",
        "\n",
        "for i in range(0,200):\n",
        "  silhoutte_score = s_i(list_cluster)\n",
        "  total += silhoutte_score\n",
        "  print(\"Perulangan ke-\", i, \" dengan Silhoutte Score \", total/(i+1))\n",
        "\n",
        "print(\"\\nAverage Silhoutte Score = \", total/200)"
      ],
      "execution_count": null,
      "outputs": [
        {
          "output_type": "stream",
          "name": "stdout",
          "text": [
            "Perulangan ke- 0  dengan Silhoutte Score  0.8943010112811615\n",
            "Perulangan ke- 1  dengan Silhoutte Score  0.8887019933385449\n",
            "Perulangan ke- 2  dengan Silhoutte Score  0.8882653452342572\n",
            "Perulangan ke- 3  dengan Silhoutte Score  0.8846584817845495\n",
            "Perulangan ke- 4  dengan Silhoutte Score  0.8865869876838719\n",
            "Perulangan ke- 5  dengan Silhoutte Score  0.8867211645741735\n",
            "Perulangan ke- 6  dengan Silhoutte Score  0.8884659378891252\n",
            "Perulangan ke- 7  dengan Silhoutte Score  0.8894510852130365\n",
            "Perulangan ke- 8  dengan Silhoutte Score  0.890217310909412\n",
            "Perulangan ke- 9  dengan Silhoutte Score  0.8910890375963543\n",
            "Perulangan ke- 10  dengan Silhoutte Score  0.8913810352040641\n",
            "Perulangan ke- 11  dengan Silhoutte Score  0.892010497085295\n",
            "Perulangan ke- 12  dengan Silhoutte Score  0.892186690484977\n",
            "Perulangan ke- 13  dengan Silhoutte Score  0.8924838637703656\n",
            "Perulangan ke- 14  dengan Silhoutte Score  0.8900864463710838\n",
            "Perulangan ke- 15  dengan Silhoutte Score  0.8899180465369961\n",
            "Perulangan ke- 16  dengan Silhoutte Score  0.8901758679925352\n",
            "Perulangan ke- 17  dengan Silhoutte Score  0.8888946425340161\n",
            "Perulangan ke- 18  dengan Silhoutte Score  0.88917918825755\n",
            "Perulangan ke- 19  dengan Silhoutte Score  0.8896669577336143\n",
            "Perulangan ke- 20  dengan Silhoutte Score  0.8893543871461054\n",
            "Perulangan ke- 21  dengan Silhoutte Score  0.889789850356684\n",
            "Perulangan ke- 22  dengan Silhoutte Score  0.889985987788183\n",
            "Perulangan ke- 23  dengan Silhoutte Score  0.8885916800795562\n",
            "Perulangan ke- 24  dengan Silhoutte Score  0.8888200533276205\n",
            "Perulangan ke- 25  dengan Silhoutte Score  0.8849794257629343\n",
            "Perulangan ke- 26  dengan Silhoutte Score  0.8853246696710168\n",
            "Perulangan ke- 27  dengan Silhoutte Score  0.8809552254094485\n",
            "Perulangan ke- 28  dengan Silhoutte Score  0.8814154249222661\n",
            "Perulangan ke- 29  dengan Silhoutte Score  0.8531440797607658\n",
            "Perulangan ke- 30  dengan Silhoutte Score  0.8535947162116826\n",
            "Perulangan ke- 31  dengan Silhoutte Score  0.8550115868856561\n",
            "Perulangan ke- 32  dengan Silhoutte Score  0.856264178691558\n",
            "Perulangan ke- 33  dengan Silhoutte Score  0.8574430886265244\n",
            "Perulangan ke- 34  dengan Silhoutte Score  0.8581762282485074\n",
            "Perulangan ke- 35  dengan Silhoutte Score  0.8589877788256511\n",
            "Perulangan ke- 36  dengan Silhoutte Score  0.85938913322051\n",
            "Perulangan ke- 37  dengan Silhoutte Score  0.8600131816988105\n",
            "Perulangan ke- 38  dengan Silhoutte Score  0.8607152039379611\n",
            "Perulangan ke- 39  dengan Silhoutte Score  0.8608751690829918\n",
            "Perulangan ke- 40  dengan Silhoutte Score  0.8615219222523257\n",
            "Perulangan ke- 41  dengan Silhoutte Score  0.8623023767530124\n",
            "Perulangan ke- 42  dengan Silhoutte Score  0.8630465310443648\n",
            "Perulangan ke- 43  dengan Silhoutte Score  0.8638033625315477\n",
            "Perulangan ke- 44  dengan Silhoutte Score  0.8642322428174228\n",
            "Perulangan ke- 45  dengan Silhoutte Score  0.8649303922448791\n",
            "Perulangan ke- 46  dengan Silhoutte Score  0.8656538855541122\n",
            "Perulangan ke- 47  dengan Silhoutte Score  0.8663472333087938\n",
            "Perulangan ke- 48  dengan Silhoutte Score  0.8669177185735361\n",
            "Perulangan ke- 49  dengan Silhoutte Score  0.8675063065316736\n",
            "Perulangan ke- 50  dengan Silhoutte Score  0.8681225471443631\n",
            "Perulangan ke- 51  dengan Silhoutte Score  0.8686653273239026\n",
            "Perulangan ke- 52  dengan Silhoutte Score  0.8690186616956344\n",
            "Perulangan ke- 53  dengan Silhoutte Score  0.8695726601416196\n",
            "Perulangan ke- 54  dengan Silhoutte Score  0.8700222665259749\n",
            "Perulangan ke- 55  dengan Silhoutte Score  0.8704558155394605\n",
            "Perulangan ke- 56  dengan Silhoutte Score  0.8706776955369424\n",
            "Perulangan ke- 57  dengan Silhoutte Score  0.8708919245000284\n",
            "Perulangan ke- 58  dengan Silhoutte Score  0.8713672237081437\n",
            "Perulangan ke- 59  dengan Silhoutte Score  0.8716343041301027\n",
            "Perulangan ke- 60  dengan Silhoutte Score  0.8710523706626787\n",
            "Perulangan ke- 61  dengan Silhoutte Score  0.8714603504339324\n",
            "Perulangan ke- 62  dengan Silhoutte Score  0.8716451540047578\n",
            "Perulangan ke- 63  dengan Silhoutte Score  0.8718911992394598\n",
            "Perulangan ke- 64  dengan Silhoutte Score  0.872235965578563\n",
            "Perulangan ke- 65  dengan Silhoutte Score  0.8722602371824548\n",
            "Perulangan ke- 66  dengan Silhoutte Score  0.8724220690960888\n",
            "Perulangan ke- 67  dengan Silhoutte Score  0.8727739080282112\n",
            "Perulangan ke- 68  dengan Silhoutte Score  0.8729857651441166\n",
            "Perulangan ke- 69  dengan Silhoutte Score  0.8731302967191426\n",
            "Perulangan ke- 70  dengan Silhoutte Score  0.873493737297448\n",
            "Perulangan ke- 71  dengan Silhoutte Score  0.8738111453416558\n",
            "Perulangan ke- 72  dengan Silhoutte Score  0.8741553019503843\n",
            "Perulangan ke- 73  dengan Silhoutte Score  0.874060146650233\n",
            "Perulangan ke- 74  dengan Silhoutte Score  0.8743918057319477\n",
            "Perulangan ke- 75  dengan Silhoutte Score  0.8747147369430909\n",
            "Perulangan ke- 76  dengan Silhoutte Score  0.8749956769370821\n",
            "Perulangan ke- 77  dengan Silhoutte Score  0.8751546047843718\n",
            "Perulangan ke- 78  dengan Silhoutte Score  0.8753969643602805\n",
            "Perulangan ke- 79  dengan Silhoutte Score  0.8752934249275169\n",
            "Perulangan ke- 80  dengan Silhoutte Score  0.8753898391308307\n",
            "Perulangan ke- 81  dengan Silhoutte Score  0.8756769700899526\n",
            "Perulangan ke- 82  dengan Silhoutte Score  0.8755737994833169\n",
            "Perulangan ke- 83  dengan Silhoutte Score  0.8655485380767125\n",
            "Perulangan ke- 84  dengan Silhoutte Score  0.8646475404128192\n",
            "Perulangan ke- 85  dengan Silhoutte Score  0.8649923482136138\n",
            "Perulangan ke- 86  dengan Silhoutte Score  0.865382488783329\n",
            "Perulangan ke- 87  dengan Silhoutte Score  0.8657111083571679\n",
            "Perulangan ke- 88  dengan Silhoutte Score  0.8660553331675415\n",
            "Perulangan ke- 89  dengan Silhoutte Score  0.8662447514145236\n",
            "Perulangan ke- 90  dengan Silhoutte Score  0.8665755466350279\n",
            "Perulangan ke- 91  dengan Silhoutte Score  0.8668769103811814\n",
            "Perulangan ke- 92  dengan Silhoutte Score  0.8671937943177324\n",
            "Perulangan ke- 93  dengan Silhoutte Score  0.8672644762019631\n",
            "Perulangan ke- 94  dengan Silhoutte Score  0.867151403850165\n",
            "Perulangan ke- 95  dengan Silhoutte Score  0.8668283305039887\n",
            "Perulangan ke- 96  dengan Silhoutte Score  0.8669961103482355\n",
            "Perulangan ke- 97  dengan Silhoutte Score  0.866997311362429\n",
            "Perulangan ke- 98  dengan Silhoutte Score  0.8671599948375148\n",
            "Perulangan ke- 99  dengan Silhoutte Score  0.8674518660539438\n",
            "Perulangan ke- 100  dengan Silhoutte Score  0.8676492936081194\n",
            "Perulangan ke- 101  dengan Silhoutte Score  0.8666231263212467\n",
            "Perulangan ke- 102  dengan Silhoutte Score  0.86561688461276\n",
            "Perulangan ke- 103  dengan Silhoutte Score  0.8659123676114875\n",
            "Perulangan ke- 104  dengan Silhoutte Score  0.8656287866115422\n",
            "Perulangan ke- 105  dengan Silhoutte Score  0.8659185821763429\n",
            "Perulangan ke- 106  dengan Silhoutte Score  0.8661838385231169\n",
            "Perulangan ke- 107  dengan Silhoutte Score  0.866487086108818\n",
            "Perulangan ke- 108  dengan Silhoutte Score  0.8667422597342522\n",
            "Perulangan ke- 109  dengan Silhoutte Score  0.8670349171710211\n",
            "Perulangan ke- 110  dengan Silhoutte Score  0.8672989910386734\n",
            "Perulangan ke- 111  dengan Silhoutte Score  0.86735737407793\n",
            "Perulangan ke- 112  dengan Silhoutte Score  0.8674967156825141\n",
            "Perulangan ke- 113  dengan Silhoutte Score  0.8677318410825022\n",
            "Perulangan ke- 114  dengan Silhoutte Score  0.8679806695642232\n",
            "Perulangan ke- 115  dengan Silhoutte Score  0.8680311628562163\n",
            "Perulangan ke- 116  dengan Silhoutte Score  0.8675648140510501\n",
            "Perulangan ke- 117  dengan Silhoutte Score  0.8678087318682481\n",
            "Perulangan ke- 118  dengan Silhoutte Score  0.867859397074695\n",
            "Perulangan ke- 119  dengan Silhoutte Score  0.8680221691742865\n",
            "Perulangan ke- 120  dengan Silhoutte Score  0.8680146620715171\n",
            "Perulangan ke- 121  dengan Silhoutte Score  0.8682301239502848\n",
            "Perulangan ke- 122  dengan Silhoutte Score  0.868275715555855\n",
            "Perulangan ke- 123  dengan Silhoutte Score  0.8685020978213757\n",
            "Perulangan ke- 124  dengan Silhoutte Score  0.8678657909319709\n",
            "Perulangan ke- 125  dengan Silhoutte Score  0.8680918331982284\n",
            "Perulangan ke- 126  dengan Silhoutte Score  0.861519205793614\n",
            "Perulangan ke- 127  dengan Silhoutte Score  0.8617912988458546\n",
            "Perulangan ke- 128  dengan Silhoutte Score  0.8620591734011612\n",
            "Perulangan ke- 129  dengan Silhoutte Score  0.8623428303579126\n",
            "Perulangan ke- 130  dengan Silhoutte Score  0.8625340457675902\n",
            "Perulangan ke- 131  dengan Silhoutte Score  0.8627902053942025\n",
            "Perulangan ke- 132  dengan Silhoutte Score  0.8630425129963544\n",
            "Perulangan ke- 133  dengan Silhoutte Score  0.8632910548133996\n",
            "Perulangan ke- 134  dengan Silhoutte Score  0.8634695806964535\n",
            "Perulangan ke- 135  dengan Silhoutte Score  0.8637303527338239\n",
            "Perulangan ke- 136  dengan Silhoutte Score  0.8639534962268702\n",
            "Perulangan ke- 137  dengan Silhoutte Score  0.8641233408123689\n",
            "Perulangan ke- 138  dengan Silhoutte Score  0.8642598849460635\n",
            "Perulangan ke- 139  dengan Silhoutte Score  0.8643282992781304\n",
            "Perulangan ke- 140  dengan Silhoutte Score  0.8645737338774261\n",
            "Perulangan ke- 141  dengan Silhoutte Score  0.8648157116513797\n",
            "Perulangan ke- 142  dengan Silhoutte Score  0.8650219025578816\n",
            "Perulangan ke- 143  dengan Silhoutte Score  0.8651474655637014\n",
            "Perulangan ke- 144  dengan Silhoutte Score  0.8653626355700236\n",
            "Perulangan ke- 145  dengan Silhoutte Score  0.8654841447469133\n",
            "Perulangan ke- 146  dengan Silhoutte Score  0.8656940969355765\n",
            "Perulangan ke- 147  dengan Silhoutte Score  0.8658117244927412\n",
            "Perulangan ke- 148  dengan Silhoutte Score  0.8654604266951508\n",
            "Perulangan ke- 149  dengan Silhoutte Score  0.8655780436864893\n",
            "Perulangan ke- 150  dengan Silhoutte Score  0.8648985879690099\n",
            "Perulangan ke- 151  dengan Silhoutte Score  0.865122508954601\n",
            "Perulangan ke- 152  dengan Silhoutte Score  0.8653435028684848\n",
            "Perulangan ke- 153  dengan Silhoutte Score  0.8653986612358026\n",
            "Perulangan ke- 154  dengan Silhoutte Score  0.8600256221540428\n",
            "Perulangan ke- 155  dengan Silhoutte Score  0.860275038536253\n",
            "Perulangan ke- 156  dengan Silhoutte Score  0.859655326382182\n",
            "Perulangan ke- 157  dengan Silhoutte Score  0.8599039292391228\n",
            "Perulangan ke- 158  dengan Silhoutte Score  0.8601202630884438\n",
            "Perulangan ke- 159  dengan Silhoutte Score  0.8602639050403657\n",
            "Perulangan ke- 160  dengan Silhoutte Score  0.8551284263837704\n",
            "Perulangan ke- 161  dengan Silhoutte Score  0.8548712654348075\n",
            "Perulangan ke- 162  dengan Silhoutte Score  0.8551131657160734\n",
            "Perulangan ke- 163  dengan Silhoutte Score  0.8553521159939093\n",
            "Perulangan ke- 164  dengan Silhoutte Score  0.8554233989863049\n",
            "Perulangan ke- 165  dengan Silhoutte Score  0.8555901434225074\n",
            "Perulangan ke- 166  dengan Silhoutte Score  0.8558219450264515\n",
            "Perulangan ke- 167  dengan Silhoutte Score  0.8560785678404538\n",
            "Perulangan ke- 168  dengan Silhoutte Score  0.8563047361448367\n",
            "Perulangan ke- 169  dengan Silhoutte Score  0.8565282436456385\n",
            "Perulangan ke- 170  dengan Silhoutte Score  0.8567611025511052\n",
            "Perulangan ke- 171  dengan Silhoutte Score  0.8568212927091754\n",
            "Perulangan ke- 172  dengan Silhoutte Score  0.8570647221026416\n",
            "Perulangan ke- 173  dengan Silhoutte Score  0.8572904829898703\n",
            "Perulangan ke- 174  dengan Silhoutte Score  0.8570400708165097\n",
            "Perulangan ke- 175  dengan Silhoutte Score  0.8571881555016201\n",
            "Perulangan ke- 176  dengan Silhoutte Score  0.8574240109947118\n",
            "Perulangan ke- 177  dengan Silhoutte Score  0.8573044174645011\n",
            "Perulangan ke- 178  dengan Silhoutte Score  0.8575111023461585\n",
            "Perulangan ke- 179  dengan Silhoutte Score  0.857741232765229\n",
            "Perulangan ke- 180  dengan Silhoutte Score  0.8531866853621735\n",
            "Perulangan ke- 181  dengan Silhoutte Score  0.8532632080235856\n",
            "Perulangan ke- 182  dengan Silhoutte Score  0.8534986392173388\n",
            "Perulangan ke- 183  dengan Silhoutte Score  0.8536091786315675\n",
            "Perulangan ke- 184  dengan Silhoutte Score  0.8538401945118316\n",
            "Perulangan ke- 185  dengan Silhoutte Score  0.8540687263503725\n",
            "Perulangan ke- 186  dengan Silhoutte Score  0.8543086506895621\n",
            "Perulangan ke- 187  dengan Silhoutte Score  0.8543767632376984\n",
            "Perulangan ke- 188  dengan Silhoutte Score  0.854598828598771\n",
            "Perulangan ke- 189  dengan Silhoutte Score  0.8547488504240193\n",
            "Perulangan ke- 190  dengan Silhoutte Score  0.854966642392901\n",
            "Perulangan ke- 191  dengan Silhoutte Score  0.8551715088975272\n",
            "Perulangan ke- 192  dengan Silhoutte Score  0.8553848540145371\n",
            "Perulangan ke- 193  dengan Silhoutte Score  0.855390718698901\n",
            "Perulangan ke- 194  dengan Silhoutte Score  0.855600751508037\n",
            "Perulangan ke- 195  dengan Silhoutte Score  0.8557982018130019\n",
            "Perulangan ke- 196  dengan Silhoutte Score  0.8559585766719496\n",
            "Perulangan ke- 197  dengan Silhoutte Score  0.8561522253315921\n",
            "Perulangan ke- 198  dengan Silhoutte Score  0.8563092093702559\n",
            "Perulangan ke- 199  dengan Silhoutte Score  0.8560950050866635\n",
            "\n",
            "Average Silhoutte Score =  0.8560950050866635\n"
          ]
        }
      ]
    },
    {
      "cell_type": "markdown",
      "metadata": {
        "id": "4JfnDRSGgHzy"
      },
      "source": [
        "## Experiment"
      ]
    },
    {
      "cell_type": "markdown",
      "metadata": {
        "id": "GZ0ZIfx5pufs"
      },
      "source": [
        "Penggantian nilai K"
      ]
    },
    {
      "cell_type": "code",
      "metadata": {
        "colab": {
          "base_uri": "https://localhost:8080/",
          "height": 517
        },
        "id": "DdUCT_ubgMyJ",
        "outputId": "208234ef-1242-4a76-b6bd-a8b55f0fa138"
      },
      "source": [
        "nilai_k = [2, 3, 4, 5, 6, 7, 8, 9, 10, 11, 12, 13]\n",
        "silhoutte_koef = [0.48712, 0.51524, 0.48454, 0.51847,\n",
        "                  0.49709, 0.60464, 0.43837, 0.70373,\n",
        "                  0.58090, 0.74021, 0.55663, 0.50173]\n",
        "\n",
        "f, ax = plt.subplots(1)\n",
        "xdata = nilai_k\n",
        "ydata = silhoutte_koef\n",
        "ax.plot(xdata, ydata)\n",
        "ax.set_ylim(bottom=0, top=1)\n",
        "plt.title(\"Perubahan Nilai Koefisien Silhoutte terhadap Nilai K\")\n",
        "plt.xlabel(\"Nilai K\")\n",
        "plt.ylabel(\"Koefisien Silhoutte\")\n",
        "plt.show(f)"
      ],
      "execution_count": null,
      "outputs": [
        {
          "output_type": "display_data",
          "data": {
            "image/png": "[encoded data removed]",
            "text/plain": [
              "<Figure size 1080x576 with 1 Axes>"
            ]
          },
          "metadata": {}
        }
      ]
    }
  ]
}